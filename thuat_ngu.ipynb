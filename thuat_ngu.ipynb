{
 "cells": [
  {
   "cell_type": "code",
   "execution_count": 4,
   "id": "a26dca70",
   "metadata": {},
   "outputs": [],
   "source": [
    "# !pip install PyMuPDF\n",
    "import fitz\n",
    "import re\n",
    "import pandas as pd"
   ]
  },
  {
   "cell_type": "code",
   "execution_count": 5,
   "id": "1f429778",
   "metadata": {},
   "outputs": [],
   "source": [
    "def extract_bold_text(pdf_path):\n",
    "    bold_words = []\n",
    "    doc = fitz.open(pdf_path)\n",
    "\n",
    "    for page_num in range(len(doc)):\n",
    "        page = doc[page_num]\n",
    "        blocks = page.get_text(\"dict\")[\"blocks\"]\n",
    "\n",
    "        for block in blocks:\n",
    "            if \"lines\" in block:\n",
    "                for line in block[\"lines\"]:\n",
    "                    for span in line[\"spans\"]:\n",
    "                        font = span[\"font\"]\n",
    "                        text = span[\"text\"]\n",
    "\n",
    "                        # Kiểm tra font có chữ \"Bold\" trong tên không\n",
    "                        if \"TimesNewRomanPS-BoldMT\" in font:\n",
    "                            bold_words.append(text)\n",
    "    return bold_words\n",
    "\n",
    "\n",
    "# def extract_bold_main(pdf_path, top_margin=80, bottom_margin=80):\n",
    "#     doc = fitz.open(pdf_path)\n",
    "#     results = []\n",
    "\n",
    "#     for page in doc:\n",
    "#         page_height = page.rect.height\n",
    "#         blocks = page.get_text(\"dict\")[\"blocks\"]\n",
    "\n",
    "#         for block in blocks:\n",
    "#             if \"lines\" in block:\n",
    "#                 for line in block[\"lines\"]:\n",
    "#                     for span in line[\"spans\"]:\n",
    "#                         text = span[\"text\"].strip()\n",
    "#                         font = span[\"font\"]\n",
    "#                         y0 = span[\"bbox\"][1]  # tọa độ top\n",
    "#                         y1 = span[\"bbox\"][3]  # tọa độ bottom\n",
    "\n",
    "#                         # Điều kiện: chữ in đậm và nằm trong phần thân\n",
    "#                         if (\n",
    "#                             # \"SegoeUI-Bold\" in font\n",
    "#                             \"TimesNewRomanPS-BoldMT\"\n",
    "#                             and y0 > top_margin\n",
    "#                             and y1 < (page_height - bottom_margin)\n",
    "#                             and text\n",
    "#                         ):\n",
    "#                             results.append(text)\n",
    "#     return results\n",
    "\n",
    "\n",
    "\n",
    "# def clean_texts(texts):\n",
    "#     cleaned = []\n",
    "#     for t in texts:\n",
    "#         if t.upper() in [\"NGỮ \", \"LẠI NGUYÊN ÂN\",\"NGỮ VẢN \",\"HỌC \",\"HỌC I\", \"VẢN\"]:\n",
    "#             continue\n",
    "#         if re.search(r\"\\d\", t):\n",
    "#             continue\n",
    "#         if re.match(r\"^\\d+\\s*I\\s*LẠI NGUYÊN ÂN$\", t_norm):\n",
    "#             continue\n",
    "\n",
    "\n",
    "#         cleaned.append(t)\n",
    "#     return cleaned\n",
    "\n"
   ]
  },
  {
   "cell_type": "code",
   "execution_count": 6,
   "id": "0a69dc15",
   "metadata": {},
   "outputs": [
    {
     "name": "stdout",
     "output_type": "stream",
     "text": [
      "104\n"
     ]
    }
   ],
   "source": [
    "# Ví dụ chạy\n",
    "# bold_texts = extract_bold_main(r\"D:\\NCKH\\estimate_question_difficulty\\150 thuật ngữ văn học - Lại Nguyên Ân biên soạn.pdf\")\n",
    "bold_texts = extract_bold_text(r\"D:\\NCKH\\estimate_question_difficulty\\tu-dien-thuat-ngu-van-hoc-154440.pdf\")\n",
    "df = pd.DataFrame(bold_texts, columns=[\"Bold Words\"])\n",
    "print(len(df))\n",
    "df.to_csv(\"bold_words_2.csv\", index=False)\n",
    "# Đọc file CSV\n",
    "\n",
    "# df = pd.read_csv(r\"D:\\NCKH\\estimate_question_difficulty\\bold_words.csv\", encoding=\"utf-8-sig\")\n",
    "\n",
    "# Đếm số lượng từ (bao gồm trùng lặp)\n",
    "# print(\"Tổng số từ in đậm trong file CSV:\", len(df))\n",
    "\n",
    "# Đếm số lượng từ duy nhất (loại bỏ trùng lặp)\n",
    "# print(\"Số lượng từ in đậm duy nhất:\", df[\"Bold Words\"].nunique())"
   ]
  },
  {
   "cell_type": "code",
   "execution_count": null,
   "id": "06f5f8b4",
   "metadata": {},
   "outputs": [
    {
     "name": "stdout",
     "output_type": "stream",
     "text": [
      "✅ Đã tạo file merged_unique.csv\n",
      "🔢 Số lượng từ duy nhất: 213\n"
     ]
    }
   ],
   "source": []
  }
 ],
 "metadata": {
  "kernelspec": {
   "display_name": "Python 3",
   "language": "python",
   "name": "python3"
  },
  "language_info": {
   "codemirror_mode": {
    "name": "ipython",
    "version": 3
   },
   "file_extension": ".py",
   "mimetype": "text/x-python",
   "name": "python",
   "nbconvert_exporter": "python",
   "pygments_lexer": "ipython3",
   "version": "3.11.0"
  }
 },
 "nbformat": 4,
 "nbformat_minor": 5
}

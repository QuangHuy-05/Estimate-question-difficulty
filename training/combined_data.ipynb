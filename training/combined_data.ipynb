{
 "cells": [
  {
   "cell_type": "code",
   "execution_count": 23,
   "id": "90df7a0c",
   "metadata": {},
   "outputs": [
    {
     "name": "stdout",
     "output_type": "stream",
     "text": [
      "Done.........\n"
     ]
    }
   ],
   "source": [
    "import pandas as pd\n",
    "\n",
    "df1 = pd.read_csv(r\"D:\\NCKH\\estimate_question_difficulty\\Embedding\\Output_features\\noise_features.csv\")\n",
    "df2 = pd.read_csv(r\"D:\\NCKH\\estimate_question_difficulty\\Embedding\\Output_features\\question_features.csv\")\n",
    "df3 = pd.read_csv(r\"D:\\NCKH\\estimate_question_difficulty\\training\\van_with_bloom_out.csv\")\n",
    "merged = pd.merge(df1, df2, on = \"id\", how = \"inner\")\n",
    "merged = pd.merge(merged, df3, on = \"id\", how = \"inner\")\n",
    "result = merged.drop(columns=[\"question_x\", \"answer\", \"subject\", \"question_y\",\"Question_Text\"])\n",
    "result.to_csv(\"merged.csv\", index = False)\n",
    "print(\"Done.........\")"
   ]
  }
 ],
 "metadata": {
  "kernelspec": {
   "display_name": "Python 3",
   "language": "python",
   "name": "python3"
  },
  "language_info": {
   "codemirror_mode": {
    "name": "ipython",
    "version": 3
   },
   "file_extension": ".py",
   "mimetype": "text/x-python",
   "name": "python",
   "nbconvert_exporter": "python",
   "pygments_lexer": "ipython3",
   "version": "3.11.0"
  }
 },
 "nbformat": 4,
 "nbformat_minor": 5
}

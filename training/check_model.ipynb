{
 "cells": [
  {
   "cell_type": "code",
   "execution_count": 2,
   "id": "df6ddbe5",
   "metadata": {},
   "outputs": [
    {
     "name": "stdout",
     "output_type": "stream",
     "text": [
      "✅ Đã load mô hình thành công\n",
      "📊 Kết quả trên toàn bộ dữ liệu:\n",
      "Accuracy: 0.40350877192982454\n",
      "Precision (macro): 0.6704545454545454\n",
      "Recall (macro): 0.4224941724941725\n",
      "F1 (macro): 0.3681174489998019\n",
      "\n",
      "Báo cáo chi tiết:\n",
      "               precision    recall  f1-score   support\n",
      "\n",
      "     Analyze       0.27      0.50      0.35         6\n",
      "       Apply       1.00      0.33      0.50         3\n",
      "    Remember       1.00      0.04      0.07        26\n",
      "  Understand       0.41      0.82      0.55        22\n",
      "\n",
      "    accuracy                           0.40        57\n",
      "   macro avg       0.67      0.42      0.37        57\n",
      "weighted avg       0.70      0.40      0.31        57\n",
      "\n"
     ]
    }
   ],
   "source": [
    "import joblib\n",
    "import pandas as pd\n",
    "import joblib\n",
    "from sklearn.metrics import accuracy_score, precision_score, recall_score, f1_score, classification_report\n",
    "model = joblib.load(r\"D:\\NCKH\\estimate_question_difficulty\\training\\random_forest_best.pkl\")\n",
    "print(\"✅ Đã load mô hình thành công\")\n",
    "\n",
    "df = pd.read_csv(r\"D:\\NCKH\\estimate_question_difficulty\\training\\merged.csv\")\n",
    "X = df.drop(columns=[\"id\", \"Bloom_Label\"])\n",
    "y = df[\"Bloom_Label\"]\n",
    "\n",
    "# Ví dụ test trên dữ liệu mới\n",
    "y_pred_all = model.predict(X) \n",
    "print(\"📊 Kết quả trên toàn bộ dữ liệu:\")\n",
    "print(\"Accuracy:\", accuracy_score(y, y_pred_all))\n",
    "print(\"Precision (macro):\", precision_score(y, y_pred_all, average='macro'))\n",
    "print(\"Recall (macro):\", recall_score(y, y_pred_all, average='macro'))\n",
    "print(\"F1 (macro):\", f1_score(y, y_pred_all, average='macro'))\n",
    "\n",
    "# In báo cáo chi tiết từng class\n",
    "print(\"\\nBáo cáo chi tiết:\\n\", classification_report(y, y_pred_all))"
   ]
  }
 ],
 "metadata": {
  "kernelspec": {
   "display_name": "Python 3",
   "language": "python",
   "name": "python3"
  },
  "language_info": {
   "codemirror_mode": {
    "name": "ipython",
    "version": 3
   },
   "file_extension": ".py",
   "mimetype": "text/x-python",
   "name": "python",
   "nbconvert_exporter": "python",
   "pygments_lexer": "ipython3",
   "version": "3.11.0"
  }
 },
 "nbformat": 4,
 "nbformat_minor": 5
}

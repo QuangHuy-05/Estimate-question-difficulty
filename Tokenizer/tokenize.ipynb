{
 "cells": [
  {
   "cell_type": "code",
   "execution_count": 14,
   "id": "29508867",
   "metadata": {},
   "outputs": [
    {
     "name": "stdout",
     "output_type": "stream",
     "text": [
      "Requirement already satisfied: transformers in c:\\users\\quang\\appdata\\local\\programs\\python\\python311\\lib\\site-packages (4.55.4)\n",
      "Requirement already satisfied: underthesea in c:\\users\\quang\\appdata\\local\\programs\\python\\python311\\lib\\site-packages (6.8.4)\n",
      "Requirement already satisfied: torch in c:\\users\\quang\\appdata\\local\\programs\\python\\python311\\lib\\site-packages (2.8.0)\n",
      "Requirement already satisfied: numpy in c:\\users\\quang\\appdata\\local\\programs\\python\\python311\\lib\\site-packages (2.3.2)\n",
      "Requirement already satisfied: pandas in c:\\users\\quang\\appdata\\local\\programs\\python\\python311\\lib\\site-packages (2.3.2)\n"
     ]
    },
    {
     "name": "stderr",
     "output_type": "stream",
     "text": [
      "ERROR: Could not find a version that satisfies the requirement json (from versions: none)\n",
      "ERROR: No matching distribution found for json\n",
      "\n",
      "[notice] A new release of pip available: 22.3 -> 25.2\n",
      "[notice] To update, run: python.exe -m pip install --upgrade pip\n"
     ]
    }
   ],
   "source": [
    "!pip install transformers underthesea torch numpy pandas json\n"
   ]
  },
  {
   "cell_type": "code",
   "execution_count": 15,
   "id": "79d16af8",
   "metadata": {},
   "outputs": [],
   "source": [
    "from transformers import AutoTokenizer, AutoModel\n",
    "import torch\n",
    "import json \n",
    "import numpy as np\n",
    "tokenizer = AutoTokenizer.from_pretrained(\"vinai/phobert-base\", use_fast=False)\n",
    "model = AutoModel.from_pretrained(\"vinai/phobert-base\")"
   ]
  },
  {
   "cell_type": "code",
   "execution_count": 16,
   "id": "ddad9275",
   "metadata": {},
   "outputs": [],
   "source": [
    "with open(r\"D:\\NCKH\\estimate_question_difficulty\\Tokenizer\\questions.json\", \"r\", encoding=\"utf-8\") as f:\n",
    "    data = json.load(f)"
   ]
  },
  {
   "cell_type": "code",
   "execution_count": 17,
   "id": "4b46e9b4",
   "metadata": {},
   "outputs": [
    {
     "name": "stdout",
     "output_type": "stream",
     "text": [
      "Số câu hỏi cần embedding: 149\n"
     ]
    }
   ],
   "source": [
    "sentences = []\n",
    "for item in data:\n",
    "    subject = f\"Môn: {item['subject']}\"\n",
    "    question = f\"Câu hỏi: {item['question']}\"\n",
    "    options = \" | \".join([f\"{k}: {v}\" for k, v in item[\"options\"].items()])\n",
    "    answer = f\"Đáp án: {item['answer']}\"\n",
    "    text = f\"{subject} {question} {options} {answer}\"\n",
    "    sentences.append(text)\n",
    "\n",
    "print(\"Số câu hỏi cần embedding:\", len(sentences))"
   ]
  },
  {
   "cell_type": "markdown",
   "id": "7f66ae96",
   "metadata": {},
   "source": [
    "Khúc này để xử lý mấy ngoại lệ bị lỗi với lấy embedding từng dòng"
   ]
  },
  {
   "cell_type": "code",
   "execution_count": 18,
   "id": "24b60fa6",
   "metadata": {},
   "outputs": [],
   "source": [
    "def get_embedding(text):\n",
    "    if not text.strip():\n",
    "        return np.zeros(768)\n",
    "    try:\n",
    "        inputs = tokenizer(text, return_tensors=\"pt\", truncation=True, padding=True)\n",
    "        with torch.no_grad():\n",
    "            outputs = model(**inputs)\n",
    "        return outputs.last_hidden_state[:, 0, :].squeeze().numpy()\n",
    "    except Exception as e:\n",
    "        print(\"Lỗi với câu:\", text, \"\\nChi tiết:\", e)\n",
    "        return np.zeros(768)"
   ]
  },
  {
   "cell_type": "code",
   "execution_count": 19,
   "id": "566c136d",
   "metadata": {},
   "outputs": [
    {
     "name": "stderr",
     "output_type": "stream",
     "text": [
      "Asking to truncate to max_length but no maximum length is provided and the model has no predefined maximum length. Default to no truncation.\n"
     ]
    },
    {
     "name": "stdout",
     "output_type": "stream",
     "text": [
      "Shape embeddings: (149, 768)\n"
     ]
    }
   ],
   "source": [
    "import numpy as np\n",
    "\n",
    "embeddings = []\n",
    "for sent in sentences:\n",
    "    emb = get_embedding(sent)\n",
    "    embeddings.append(emb)\n",
    "\n",
    "embeddings = np.array(embeddings)\n",
    "print(\"Shape embeddings:\", embeddings.shape)  # (số_câu, 768)\n",
    "\n"
   ]
  },
  {
   "cell_type": "markdown",
   "id": "1680f488",
   "metadata": {},
   "source": [
    "Muốn save sang npy thì chạy block này\n"
   ]
  },
  {
   "cell_type": "code",
   "execution_count": 20,
   "id": "4c001d3d",
   "metadata": {},
   "outputs": [
    {
     "name": "stdout",
     "output_type": "stream",
     "text": [
      "Đã lưu embeddings vào embeddings.npy\n"
     ]
    }
   ],
   "source": [
    "np.save(r\"D:\\NCKH\\estimate_question_difficulty\\Tokenizer\\embeddings.npy\", embeddings)\n",
    "print(\"Đã lưu embeddings vào embeddings.npy\")\n"
   ]
  },
  {
   "cell_type": "markdown",
   "id": "043bc3a8",
   "metadata": {},
   "source": [
    "Còn muốn save sang csv để check thì như này"
   ]
  },
  {
   "cell_type": "code",
   "execution_count": 21,
   "id": "9ddbe240",
   "metadata": {},
   "outputs": [
    {
     "name": "stdout",
     "output_type": "stream",
     "text": [
      "Đã lưu embeddings vào embeddings.csv\n"
     ]
    }
   ],
   "source": [
    "import pandas as pd\n",
    "\n",
    "df = pd.DataFrame(embeddings)\n",
    "df.insert(0, \"sentence\", sentences)  # thêm cột câu gốc\n",
    "\n",
    "df.to_csv(r\"D:\\NCKH\\estimate_question_difficulty\\Tokenizer\\embeddings.csv\", index=False, encoding=\"utf-8\")\n",
    "print(\"Đã lưu embeddings vào embeddings.csv\")"
   ]
  },
  {
   "cell_type": "code",
   "execution_count": 22,
   "id": "d4ce9b53",
   "metadata": {},
   "outputs": [
    {
     "name": "stderr",
     "output_type": "stream",
     "text": [
      "\n",
      "[notice] A new release of pip available: 22.3 -> 25.2\n",
      "[notice] To update, run: python.exe -m pip install --upgrade pip\n"
     ]
    },
    {
     "name": "stdout",
     "output_type": "stream",
     "text": [
      "Requirement already satisfied: matplotlib in c:\\users\\quang\\appdata\\local\\programs\\python\\python311\\lib\\site-packages (3.10.5)\n",
      "Requirement already satisfied: contourpy>=1.0.1 in c:\\users\\quang\\appdata\\local\\programs\\python\\python311\\lib\\site-packages (from matplotlib) (1.3.3)\n",
      "Requirement already satisfied: cycler>=0.10 in c:\\users\\quang\\appdata\\local\\programs\\python\\python311\\lib\\site-packages (from matplotlib) (0.12.1)\n",
      "Requirement already satisfied: fonttools>=4.22.0 in c:\\users\\quang\\appdata\\local\\programs\\python\\python311\\lib\\site-packages (from matplotlib) (4.59.1)\n",
      "Requirement already satisfied: kiwisolver>=1.3.1 in c:\\users\\quang\\appdata\\local\\programs\\python\\python311\\lib\\site-packages (from matplotlib) (1.4.9)\n",
      "Requirement already satisfied: numpy>=1.23 in c:\\users\\quang\\appdata\\local\\programs\\python\\python311\\lib\\site-packages (from matplotlib) (2.3.2)\n",
      "Requirement already satisfied: packaging>=20.0 in c:\\users\\quang\\appdata\\roaming\\python\\python311\\site-packages (from matplotlib) (25.0)\n",
      "Requirement already satisfied: pillow>=8 in c:\\users\\quang\\appdata\\local\\programs\\python\\python311\\lib\\site-packages (from matplotlib) (11.3.0)\n",
      "Requirement already satisfied: pyparsing>=2.3.1 in c:\\users\\quang\\appdata\\local\\programs\\python\\python311\\lib\\site-packages (from matplotlib) (3.2.3)\n",
      "Requirement already satisfied: python-dateutil>=2.7 in c:\\users\\quang\\appdata\\roaming\\python\\python311\\site-packages (from matplotlib) (2.9.0.post0)\n",
      "Requirement already satisfied: six>=1.5 in c:\\users\\quang\\appdata\\roaming\\python\\python311\\site-packages (from python-dateutil>=2.7->matplotlib) (1.17.0)\n"
     ]
    },
    {
     "data": {
      "image/png": "[encoded data removed]",
      "text/plain": [
       "<Figure size 640x480 with 1 Axes>"
      ]
     },
     "metadata": {},
     "output_type": "display_data"
    }
   ],
   "source": [
    "!pip install matplotlib\n",
    "from sklearn.decomposition import PCA\n",
    "import matplotlib.pyplot as plt\n",
    "\n",
    "pca = PCA(n_components=2)\n",
    "reduced = pca.fit_transform(embeddings)\n",
    "\n",
    "plt.scatter(reduced[:,0], reduced[:,1])\n",
    "plt.title(\"PCA Embeddings\")\n",
    "plt.show()"
   ]
  }
 ],
 "metadata": {
  "kernelspec": {
   "display_name": "Python 3",
   "language": "python",
   "name": "python3"
  },
  "language_info": {
   "codemirror_mode": {
    "name": "ipython",
    "version": 3
   },
   "file_extension": ".py",
   "mimetype": "text/x-python",
   "name": "python",
   "nbconvert_exporter": "python",
   "pygments_lexer": "ipython3",
   "version": "3.11.0"
  }
 },
 "nbformat": 4,
 "nbformat_minor": 5
}

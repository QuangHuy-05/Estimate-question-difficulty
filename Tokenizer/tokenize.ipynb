{
 "cells": [
  {
   "cell_type": "code",
   "execution_count": 4,
   "id": "29508867",
   "metadata": {},
   "outputs": [
    {
     "name": "stdout",
     "output_type": "stream",
     "text": [
      "Requirement already satisfied: transformers in c:\\users\\quang\\appdata\\local\\programs\\python\\python311\\lib\\site-packages (4.55.4)\n",
      "Requirement already satisfied: underthesea in c:\\users\\quang\\appdata\\local\\programs\\python\\python311\\lib\\site-packages (6.8.4)\n",
      "Requirement already satisfied: torch in c:\\users\\quang\\appdata\\local\\programs\\python\\python311\\lib\\site-packages (2.8.0)\n",
      "Requirement already satisfied: numpy in c:\\users\\quang\\appdata\\local\\programs\\python\\python311\\lib\\site-packages (2.3.2)\n",
      "Requirement already satisfied: pandas in c:\\users\\quang\\appdata\\local\\programs\\python\\python311\\lib\\site-packages (2.3.2)\n",
      "Requirement already satisfied: filelock in c:\\users\\quang\\appdata\\local\\programs\\python\\python311\\lib\\site-packages (from transformers) (3.19.1)\n",
      "Requirement already satisfied: huggingface-hub<1.0,>=0.34.0 in c:\\users\\quang\\appdata\\local\\programs\\python\\python311\\lib\\site-packages (from transformers) (0.34.4)\n",
      "Requirement already satisfied: packaging>=20.0 in c:\\users\\quang\\appdata\\roaming\\python\\python311\\site-packages (from transformers) (25.0)\n",
      "Requirement already satisfied: pyyaml>=5.1 in c:\\users\\quang\\appdata\\local\\programs\\python\\python311\\lib\\site-packages (from transformers) (6.0.2)\n",
      "Requirement already satisfied: regex!=2019.12.17 in c:\\users\\quang\\appdata\\local\\programs\\python\\python311\\lib\\site-packages (from transformers) (2025.7.34)\n",
      "Requirement already satisfied: requests in c:\\users\\quang\\appdata\\local\\programs\\python\\python311\\lib\\site-packages (from transformers) (2.32.5)\n",
      "Requirement already satisfied: tokenizers<0.22,>=0.21 in c:\\users\\quang\\appdata\\local\\programs\\python\\python311\\lib\\site-packages (from transformers) (0.21.4)\n",
      "Requirement already satisfied: safetensors>=0.4.3 in c:\\users\\quang\\appdata\\local\\programs\\python\\python311\\lib\\site-packages (from transformers) (0.6.2)\n",
      "Requirement already satisfied: tqdm>=4.27 in c:\\users\\quang\\appdata\\local\\programs\\python\\python311\\lib\\site-packages (from transformers) (4.67.1)\n",
      "Requirement already satisfied: Click>=6.0 in c:\\users\\quang\\appdata\\local\\programs\\python\\python311\\lib\\site-packages (from underthesea) (8.2.1)\n",
      "Requirement already satisfied: python-crfsuite>=0.9.6 in c:\\users\\quang\\appdata\\local\\programs\\python\\python311\\lib\\site-packages (from underthesea) (0.9.11)\n",
      "Requirement already satisfied: nltk in c:\\users\\quang\\appdata\\local\\programs\\python\\python311\\lib\\site-packages (from underthesea) (3.9.1)\n",
      "Requirement already satisfied: joblib in c:\\users\\quang\\appdata\\local\\programs\\python\\python311\\lib\\site-packages (from underthesea) (1.5.2)\n",
      "Requirement already satisfied: scikit-learn in c:\\users\\quang\\appdata\\local\\programs\\python\\python311\\lib\\site-packages (from underthesea) (1.7.1)\n",
      "Requirement already satisfied: underthesea-core==1.0.4 in c:\\users\\quang\\appdata\\local\\programs\\python\\python311\\lib\\site-packages (from underthesea) (1.0.4)\n",
      "Requirement already satisfied: typing-extensions>=4.10.0 in c:\\users\\quang\\appdata\\roaming\\python\\python311\\site-packages (from torch) (4.15.0)\n",
      "Requirement already satisfied: sympy>=1.13.3 in c:\\users\\quang\\appdata\\local\\programs\\python\\python311\\lib\\site-packages (from torch) (1.14.0)\n",
      "Requirement already satisfied: networkx in c:\\users\\quang\\appdata\\local\\programs\\python\\python311\\lib\\site-packages (from torch) (3.5)\n",
      "Requirement already satisfied: jinja2 in c:\\users\\quang\\appdata\\local\\programs\\python\\python311\\lib\\site-packages (from torch) (3.1.6)\n",
      "Requirement already satisfied: fsspec in c:\\users\\quang\\appdata\\local\\programs\\python\\python311\\lib\\site-packages (from torch) (2025.7.0)\n",
      "Requirement already satisfied: python-dateutil>=2.8.2 in c:\\users\\quang\\appdata\\roaming\\python\\python311\\site-packages (from pandas) (2.9.0.post0)\n",
      "Requirement already satisfied: pytz>=2020.1 in c:\\users\\quang\\appdata\\local\\programs\\python\\python311\\lib\\site-packages (from pandas) (2025.2)\n",
      "Requirement already satisfied: tzdata>=2022.7 in c:\\users\\quang\\appdata\\local\\programs\\python\\python311\\lib\\site-packages (from pandas) (2025.2)\n",
      "Requirement already satisfied: colorama in c:\\users\\quang\\appdata\\roaming\\python\\python311\\site-packages (from Click>=6.0->underthesea) (0.4.6)\n",
      "Requirement already satisfied: six>=1.5 in c:\\users\\quang\\appdata\\roaming\\python\\python311\\site-packages (from python-dateutil>=2.8.2->pandas) (1.17.0)\n",
      "Requirement already satisfied: mpmath<1.4,>=1.1.0 in c:\\users\\quang\\appdata\\local\\programs\\python\\python311\\lib\\site-packages (from sympy>=1.13.3->torch) (1.3.0)\n",
      "Requirement already satisfied: MarkupSafe>=2.0 in c:\\users\\quang\\appdata\\local\\programs\\python\\python311\\lib\\site-packages (from jinja2->torch) (3.0.2)\n",
      "Requirement already satisfied: charset_normalizer<4,>=2 in c:\\users\\quang\\appdata\\local\\programs\\python\\python311\\lib\\site-packages (from requests->transformers) (3.4.3)\n",
      "Requirement already satisfied: idna<4,>=2.5 in c:\\users\\quang\\appdata\\local\\programs\\python\\python311\\lib\\site-packages (from requests->transformers) (3.10)\n",
      "Requirement already satisfied: urllib3<3,>=1.21.1 in c:\\users\\quang\\appdata\\local\\programs\\python\\python311\\lib\\site-packages (from requests->transformers) (2.5.0)\n",
      "Requirement already satisfied: certifi>=2017.4.17 in c:\\users\\quang\\appdata\\local\\programs\\python\\python311\\lib\\site-packages (from requests->transformers) (2025.8.3)\n",
      "Requirement already satisfied: scipy>=1.8.0 in c:\\users\\quang\\appdata\\local\\programs\\python\\python311\\lib\\site-packages (from scikit-learn->underthesea) (1.16.1)\n",
      "Requirement already satisfied: threadpoolctl>=3.1.0 in c:\\users\\quang\\appdata\\local\\programs\\python\\python311\\lib\\site-packages (from scikit-learn->underthesea) (3.6.0)\n"
     ]
    },
    {
     "name": "stderr",
     "output_type": "stream",
     "text": [
      "\n",
      "[notice] A new release of pip available: 22.3 -> 25.2\n",
      "[notice] To update, run: python.exe -m pip install --upgrade pip\n"
     ]
    }
   ],
   "source": [
    "!pip install transformers underthesea torch numpy pandas\n"
   ]
  },
  {
   "cell_type": "code",
   "execution_count": 5,
   "id": "79d16af8",
   "metadata": {},
   "outputs": [
    {
     "name": "stderr",
     "output_type": "stream",
     "text": [
      "c:\\Users\\quang\\AppData\\Local\\Programs\\Python\\Python311\\Lib\\site-packages\\tqdm\\auto.py:21: TqdmWarning: IProgress not found. Please update jupyter and ipywidgets. See https://ipywidgets.readthedocs.io/en/stable/user_install.html\n",
      "  from .autonotebook import tqdm as notebook_tqdm\n"
     ]
    }
   ],
   "source": [
    "from transformers import AutoTokenizer, AutoModel\n",
    "import torch\n",
    "tokenizer = AutoTokenizer.from_pretrained(\"vinai/phobert-base\", use_fast=False)\n",
    "model = AutoModel.from_pretrained(\"vinai/phobert-base\")"
   ]
  },
  {
   "cell_type": "code",
   "execution_count": 6,
   "id": "ddad9275",
   "metadata": {},
   "outputs": [],
   "source": [
    "with open(r\"D:\\NCKH\\Tokenizer\\word_segment_ques.txt\", \"r\", encoding=\"utf-8\") as f:\n",
    "    sentences = [line.strip() for line in f if line.strip()]"
   ]
  },
  {
   "cell_type": "markdown",
   "id": "7f66ae96",
   "metadata": {},
   "source": [
    "Khúc này để xử lý mấy ngoại lệ bị lỗi với lấy embedding từng dòng"
   ]
  },
  {
   "cell_type": "code",
   "execution_count": 7,
   "id": "24b60fa6",
   "metadata": {},
   "outputs": [],
   "source": [
    "def get_embedding(text):\n",
    "    if not text.strip():  \n",
    "        return np.zeros(768)  \n",
    "    try:\n",
    "        inputs = tokenizer(text, return_tensors=\"pt\", truncation=True, padding=True)\n",
    "        with torch.no_grad():\n",
    "            outputs = model(**inputs)\n",
    "        return outputs.last_hidden_state[:, 0, :].squeeze().numpy()\n",
    "    except Exception as e:\n",
    "        print(\"Lỗi với câu:\", text, \"\\nChi tiết:\", e)\n",
    "        return np.zeros(768)"
   ]
  },
  {
   "cell_type": "code",
   "execution_count": 8,
   "id": "566c136d",
   "metadata": {},
   "outputs": [
    {
     "name": "stderr",
     "output_type": "stream",
     "text": [
      "Asking to truncate to max_length but no maximum length is provided and the model has no predefined maximum length. Default to no truncation.\n"
     ]
    },
    {
     "name": "stdout",
     "output_type": "stream",
     "text": [
      "Shape embeddings: (56, 768)\n"
     ]
    }
   ],
   "source": [
    "import numpy as np\n",
    "\n",
    "embeddings = []\n",
    "for sent in sentences:\n",
    "    emb = get_embedding(sent)\n",
    "    embeddings.append(emb)\n",
    "\n",
    "embeddings = np.array(embeddings)\n",
    "print(\"Shape embeddings:\", embeddings.shape)  # (số_câu, 768)\n",
    "\n"
   ]
  },
  {
   "cell_type": "markdown",
   "id": "1680f488",
   "metadata": {},
   "source": [
    "Muốn save sang npy thì chạy block này\n"
   ]
  },
  {
   "cell_type": "code",
   "execution_count": 9,
   "id": "4c001d3d",
   "metadata": {},
   "outputs": [
    {
     "name": "stdout",
     "output_type": "stream",
     "text": [
      "Đã lưu embeddings vào embeddings.npy\n"
     ]
    }
   ],
   "source": [
    "np.save(\"D:/NCKH/Tokenizer/embeddings.npy\", embeddings)\n",
    "print(\"Đã lưu embeddings vào embeddings.npy\")\n"
   ]
  },
  {
   "cell_type": "markdown",
   "id": "043bc3a8",
   "metadata": {},
   "source": [
    "Còn muốn save sang csv để check thì như này"
   ]
  },
  {
   "cell_type": "code",
   "execution_count": 10,
   "id": "9ddbe240",
   "metadata": {},
   "outputs": [
    {
     "name": "stdout",
     "output_type": "stream",
     "text": [
      "Đã lưu embeddings vào embeddings.csv\n"
     ]
    }
   ],
   "source": [
    "import pandas as pd\n",
    "\n",
    "df = pd.DataFrame(embeddings)\n",
    "df.insert(0, \"sentence\", sentences)  # thêm cột câu gốc\n",
    "\n",
    "df.to_csv(\"D:/NCKH/Tokenizer/embeddings.csv\", index=False, encoding=\"utf-8\")\n",
    "print(\"Đã lưu embeddings vào embeddings.csv\")"
   ]
  },
  {
   "cell_type": "code",
   "execution_count": 11,
   "id": "d4ce9b53",
   "metadata": {},
   "outputs": [
    {
     "name": "stdout",
     "output_type": "stream",
     "text": [
      "Requirement already satisfied: matplotlib in c:\\users\\quang\\appdata\\local\\programs\\python\\python311\\lib\\site-packages (3.10.5)\n",
      "Requirement already satisfied: contourpy>=1.0.1 in c:\\users\\quang\\appdata\\local\\programs\\python\\python311\\lib\\site-packages (from matplotlib) (1.3.3)\n",
      "Requirement already satisfied: cycler>=0.10 in c:\\users\\quang\\appdata\\local\\programs\\python\\python311\\lib\\site-packages (from matplotlib) (0.12.1)\n",
      "Requirement already satisfied: fonttools>=4.22.0 in c:\\users\\quang\\appdata\\local\\programs\\python\\python311\\lib\\site-packages (from matplotlib) (4.59.1)\n",
      "Requirement already satisfied: kiwisolver>=1.3.1 in c:\\users\\quang\\appdata\\local\\programs\\python\\python311\\lib\\site-packages (from matplotlib) (1.4.9)\n",
      "Requirement already satisfied: numpy>=1.23 in c:\\users\\quang\\appdata\\local\\programs\\python\\python311\\lib\\site-packages (from matplotlib) (2.3.2)\n",
      "Requirement already satisfied: packaging>=20.0 in c:\\users\\quang\\appdata\\roaming\\python\\python311\\site-packages (from matplotlib) (25.0)\n",
      "Requirement already satisfied: pillow>=8 in c:\\users\\quang\\appdata\\local\\programs\\python\\python311\\lib\\site-packages (from matplotlib) (11.3.0)\n",
      "Requirement already satisfied: pyparsing>=2.3.1 in c:\\users\\quang\\appdata\\local\\programs\\python\\python311\\lib\\site-packages (from matplotlib) (3.2.3)\n",
      "Requirement already satisfied: python-dateutil>=2.7 in c:\\users\\quang\\appdata\\roaming\\python\\python311\\site-packages (from matplotlib) (2.9.0.post0)\n",
      "Requirement already satisfied: six>=1.5 in c:\\users\\quang\\appdata\\roaming\\python\\python311\\site-packages (from python-dateutil>=2.7->matplotlib) (1.17.0)\n"
     ]
    },
    {
     "name": "stderr",
     "output_type": "stream",
     "text": [
      "\n",
      "[notice] A new release of pip available: 22.3 -> 25.2\n",
      "[notice] To update, run: python.exe -m pip install --upgrade pip\n"
     ]
    },
    {
     "data": {
      "image/png": "[encoded data removed]",
      "text/plain": [
       "<Figure size 640x480 with 1 Axes>"
      ]
     },
     "metadata": {},
     "output_type": "display_data"
    }
   ],
   "source": [
    "!pip install matplotlib\n",
    "from sklearn.decomposition import PCA\n",
    "import matplotlib.pyplot as plt\n",
    "\n",
    "pca = PCA(n_components=2)\n",
    "reduced = pca.fit_transform(embeddings)\n",
    "\n",
    "plt.scatter(reduced[:,0], reduced[:,1])\n",
    "plt.title(\"PCA Embeddings\")\n",
    "plt.show()"
   ]
  }
 ],
 "metadata": {
  "kernelspec": {
   "display_name": "Python 3",
   "language": "python",
   "name": "python3"
  },
  "language_info": {
   "codemirror_mode": {
    "name": "ipython",
    "version": 3
   },
   "file_extension": ".py",
   "mimetype": "text/x-python",
   "name": "python",
   "nbconvert_exporter": "python",
   "pygments_lexer": "ipython3",
   "version": "3.11.0"
  }
 },
 "nbformat": 4,
 "nbformat_minor": 5
}

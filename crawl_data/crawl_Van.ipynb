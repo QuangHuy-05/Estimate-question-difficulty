{
 "cells": [
  {
   "cell_type": "code",
   "execution_count": null,
   "id": "989a4b69",
   "metadata": {},
   "outputs": [
    {
     "ename": "",
     "evalue": "",
     "output_type": "error",
     "traceback": [
      "\u001b[1;31mRunning cells with 'Python 3.13.3' requires the ipykernel package.\n",
      "\u001b[1;31m<a href='command:jupyter.createPythonEnvAndSelectController'>Create a Python Environment</a> with the required packages.\n",
      "\u001b[1;31mOr install 'ipykernel' using the command: '\"c:/Users/MY LAPTOP/AppData/Local/Programs/Python/Python313/python.exe\" -m pip install ipykernel -U --user --force-reinstall'"
     ]
    }
   ],
   "source": [
    "import csv\n",
    "import json\n",
    "from selenium import webdriver\n",
    "from selenium.webdriver.chrome.service import Service\n",
    "from selenium.webdriver.common.by import By\n",
    "from selenium.webdriver.support.ui import WebDriverWait\n",
    "from selenium.webdriver.support import expected_conditions as EC\n",
    "from selenium.common.exceptions import NoSuchElementException\n",
    "import time\n",
    "from bs4 import BeautifulSoup  # để loại bỏ các thẻ in đậm, nghiêng\n",
    "\n",
    "subject_files = {\n",
    "    \"Văn\": \"output/van.csv\",\n",
    "#     \"Sử\": \"output/lich_su.csv\",\n",
    "#     \"Địa\": \"output/dia_ly.csv\",\n",
    "#     \"Anh văn\": \"output/anhvan.csv\"\n",
    "}\n"
   ]
  },
  {
   "cell_type": "code",
   "execution_count": null,
   "id": "b5def7b8",
   "metadata": {},
   "outputs": [],
   "source": [
    "# Mở trình duyệt\n",
    "driver = webdriver.Edge()"
   ]
  },
  {
   "cell_type": "code",
   "execution_count": null,
   "id": "a611df47",
   "metadata": {},
   "outputs": [],
   "source": [
    "for subject, filepath in subject_files.items():\n",
    "    print(f\"\\nĐANG XỬ LÝ MÔN: {subject}\")\n",
    "    results = []\n",
    "    #lấy sl câu hỏi\n",
    "    count = 0 \n",
    "\n",
    "    with open(filepath, mode='r', encoding='utf-8-sig') as f:\n",
    "        reader = csv.DictReader(f)\n",
    "        \n",
    "        for row in reader:\n",
    "            if count >= 50:\n",
    "                break\n",
    "    \n",
    "            title = row[\"Title\"]\n",
    "            link = row[\"Link\"]\n",
    "            \n",
    "            print(f\"\\n🔗 Truy cập: {title}\")\n",
    "            driver.get(link)\n",
    "            time.sleep(2)  # đợi trang load\n",
    "\n",
    "            questions = driver.find_elements(By.CSS_SELECTOR, \"div.quiz-answer-item\")\n",
    "            for  q in questions:\n",
    "                try:\n",
    "                    # Câu hỏi (HTML -> text sạch)\n",
    "                    question_html = q.find_element(By.CSS_SELECTOR, \"div.title-question\").get_attribute(\"innerHTML\")\n",
    "                    question_text = BeautifulSoup(question_html, \"html.parser\").get_text(separator=\" \", strip=True)\n",
    "\n",
    "                    # Đáp án\n",
    "                    answer_elems = q.find_elements(By.CSS_SELECTOR, \"div.answers label\")\n",
    "                    answers = [ans.text.strip() for ans in answer_elems if ans.text.strip()]\n",
    "                    \n",
    "                    # Lấy phần tử chứa giải thích và đáp án\n",
    "                    reason_elem = q.find_element(By.CLASS_NAME, \"reason\")\n",
    "                    reason_html = reason_elem.get_attribute(\"innerHTML\")\n",
    "\n",
    "                    import re\n",
    "                    soup = BeautifulSoup(reason_html, \"html.parser\")\n",
    "                    text = soup.get_text(separator=\"\\n\", strip=True) \n",
    "                    match = re.search(r\"Đáp án(?: cần chọn là)?[:：]\\s*([A-D])\", text, re.IGNORECASE)\n",
    "                    correct_answer = match.group(1).upper() if match else None\n",
    "                    \n",
    "                    if correct_answer:\n",
    "                        explanation_text = re.sub(r\"Đáp án(?: cần chọn là)?[:：]?\\s*\"+re.escape(correct_answer), \"\", text, flags=re.IGNORECASE).strip()\n",
    "                    else:\n",
    "                        explanation_text = text.strip()\n",
    "                    cleaned_explanation = \" \".join(explanation_text.split())\n",
    "                    explanation = cleaned_explanation if cleaned_explanation and not cleaned_explanation.startswith(\"Đáp án\") else None\n",
    "\n",
    "                    result_item = {\n",
    "                        \"question\": question_text,\n",
    "                        \"answers\": answers,\n",
    "                        \"correct_answer\": correct_answer\n",
    "                    }\n",
    "\n",
    "                    if explanation:\n",
    "                        result_item[\"explanation\"] = explanation\n",
    "\n",
    "                    results.append(result_item)\n",
    "                    count += 1\n",
    "                    # #In kết quả\n",
    "                    # print(f\"Câu hỏi: {question_text}\")\n",
    "                    # for ans in answers:\n",
    "                    #     print(f\"   - {ans}\")\n",
    "                    # print(\"📘 Full text:\", text)\n",
    "                except:\n",
    "                    continue\n",
    "\n",
    " # 💾 Lưu kết quả vào file JSON\n",
    "    output_path = f\"output/{subject.lower()}.json\"\n",
    "    with open(output_path, \"w\", encoding=\"utf-8\") as out_file:\n",
    "        json.dump(results, out_file, ensure_ascii=False, indent=2)\n",
    "    print(f\"\\n✅ Đã lưu {len(results)} câu hỏi vào: {output_path}\")\n",
    "\n",
    "# Đóng trình duyệt\n",
    "driver.quit()\n",
    "                \n",
    "\n"
   ]
  },
  {
   "cell_type": "code",
   "execution_count": null,
   "id": "c61f04d9",
   "metadata": {},
   "outputs": [],
   "source": []
  }
 ],
 "metadata": {
  "kernelspec": {
   "display_name": "Python 3",
   "language": "python",
   "name": "python3"
  },
  "language_info": {
   "codemirror_mode": {
    "name": "ipython",
    "version": 3
   },
   "file_extension": ".py",
   "mimetype": "text/x-python",
   "name": "python",
   "nbconvert_exporter": "python",
   "pygments_lexer": "ipython3",
   "version": "3.13.3"
  }
 },
 "nbformat": 4,
 "nbformat_minor": 5
}

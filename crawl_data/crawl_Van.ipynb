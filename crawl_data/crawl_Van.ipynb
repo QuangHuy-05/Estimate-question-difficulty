{
 "cells": [
  {
   "cell_type": "code",
   "execution_count": 7,
   "id": "989a4b69",
   "metadata": {},
   "outputs": [
    {
     "name": "stdout",
     "output_type": "stream",
     "text": [
      "Requirement already satisfied: selenium in c:\\users\\quang\\appdata\\local\\programs\\python\\python311\\lib\\site-packages (4.35.0)\n",
      "Requirement already satisfied: bs4 in c:\\users\\quang\\appdata\\local\\programs\\python\\python311\\lib\\site-packages (0.0.2)\n",
      "Requirement already satisfied: urllib3[socks]<3.0,>=2.5.0 in c:\\users\\quang\\appdata\\local\\programs\\python\\python311\\lib\\site-packages (from selenium) (2.5.0)\n",
      "Requirement already satisfied: trio~=0.30.0 in c:\\users\\quang\\appdata\\local\\programs\\python\\python311\\lib\\site-packages (from selenium) (0.30.0)\n",
      "Requirement already satisfied: trio-websocket~=0.12.2 in c:\\users\\quang\\appdata\\local\\programs\\python\\python311\\lib\\site-packages (from selenium) (0.12.2)\n",
      "Requirement already satisfied: certifi>=2025.6.15 in c:\\users\\quang\\appdata\\local\\programs\\python\\python311\\lib\\site-packages (from selenium) (2025.8.3)\n",
      "Requirement already satisfied: typing_extensions~=4.14.0 in c:\\users\\quang\\appdata\\local\\programs\\python\\python311\\lib\\site-packages (from selenium) (4.14.1)\n",
      "Requirement already satisfied: websocket-client~=1.8.0 in c:\\users\\quang\\appdata\\local\\programs\\python\\python311\\lib\\site-packages (from selenium) (1.8.0)\n",
      "Requirement already satisfied: beautifulsoup4 in c:\\users\\quang\\appdata\\local\\programs\\python\\python311\\lib\\site-packages (from bs4) (4.13.5)\n",
      "Requirement already satisfied: attrs>=23.2.0 in c:\\users\\quang\\appdata\\local\\programs\\python\\python311\\lib\\site-packages (from trio~=0.30.0->selenium) (25.3.0)\n",
      "Requirement already satisfied: sortedcontainers in c:\\users\\quang\\appdata\\local\\programs\\python\\python311\\lib\\site-packages (from trio~=0.30.0->selenium) (2.4.0)\n",
      "Requirement already satisfied: idna in c:\\users\\quang\\appdata\\local\\programs\\python\\python311\\lib\\site-packages (from trio~=0.30.0->selenium) (3.10)\n",
      "Requirement already satisfied: outcome in c:\\users\\quang\\appdata\\local\\programs\\python\\python311\\lib\\site-packages (from trio~=0.30.0->selenium) (1.3.0.post0)\n",
      "Requirement already satisfied: sniffio>=1.3.0 in c:\\users\\quang\\appdata\\local\\programs\\python\\python311\\lib\\site-packages (from trio~=0.30.0->selenium) (1.3.1)\n",
      "Requirement already satisfied: cffi>=1.14 in c:\\users\\quang\\appdata\\local\\programs\\python\\python311\\lib\\site-packages (from trio~=0.30.0->selenium) (2.0.0)\n",
      "Requirement already satisfied: wsproto>=0.14 in c:\\users\\quang\\appdata\\local\\programs\\python\\python311\\lib\\site-packages (from trio-websocket~=0.12.2->selenium) (1.2.0)\n",
      "Requirement already satisfied: pysocks!=1.5.7,<2.0,>=1.5.6 in c:\\users\\quang\\appdata\\local\\programs\\python\\python311\\lib\\site-packages (from urllib3[socks]<3.0,>=2.5.0->selenium) (1.7.1)\n",
      "Requirement already satisfied: soupsieve>1.2 in c:\\users\\quang\\appdata\\local\\programs\\python\\python311\\lib\\site-packages (from beautifulsoup4->bs4) (2.8)\n",
      "Requirement already satisfied: pycparser in c:\\users\\quang\\appdata\\local\\programs\\python\\python311\\lib\\site-packages (from cffi>=1.14->trio~=0.30.0->selenium) (2.23)\n",
      "Requirement already satisfied: h11<1,>=0.9.0 in c:\\users\\quang\\appdata\\local\\programs\\python\\python311\\lib\\site-packages (from wsproto>=0.14->trio-websocket~=0.12.2->selenium) (0.16.0)\n"
     ]
    },
    {
     "name": "stderr",
     "output_type": "stream",
     "text": [
      "\n",
      "[notice] A new release of pip available: 22.3 -> 25.2\n",
      "[notice] To update, run: python.exe -m pip install --upgrade pip\n"
     ]
    }
   ],
   "source": [
    "!pip install selenium bs4\n",
    "import csv\n",
    "import json\n",
    "from selenium import webdriver\n",
    "from selenium.webdriver.chrome.service import Service\n",
    "from selenium.webdriver.common.by import By\n",
    "from selenium.webdriver.support.ui import WebDriverWait\n",
    "from selenium.webdriver.support import expected_conditions as EC\n",
    "from selenium.common.exceptions import NoSuchElementException\n",
    "import time\n",
    "from bs4 import BeautifulSoup  # để loại bỏ các thẻ in đậm, nghiêng\n",
    "\n",
    "subject_files = {\n",
    "    \"Văn\": r\"D:\\NCKH\\estimate_question_difficulty\\output\\van.csv\",\n",
    "#     \"Sử\": \"output/lich_su.csv\",\n",
    "#     \"Địa\": \"output/dia_ly.csv\",\n",
    "#     \"Anh văn\": \"output/anhvan.csv\"\n",
    "}\n"
   ]
  },
  {
   "cell_type": "code",
   "execution_count": 8,
   "id": "b5def7b8",
   "metadata": {},
   "outputs": [],
   "source": [
    "# Mở trình duyệt\n",
    "driver = webdriver.Edge()"
   ]
  },
  {
   "cell_type": "code",
   "execution_count": null,
   "id": "a611df47",
   "metadata": {},
   "outputs": [
    {
     "name": "stdout",
     "output_type": "stream",
     "text": [
      "\n",
      "ĐANG XỬ LÝ MÔN: Văn\n",
      "\n",
      "🔗 Truy cập: Trắc nghiệm Ngữ văn 9 Phong cách Hồ Chí Minh  (có đáp án)\n",
      "\n",
      "🔗 Truy cập: Trắc nghiệm Tìm hiểu chung về tác phẩm Phong cách Hồ Chí Minh\n",
      "\n",
      "🔗 Truy cập: Trắc nghiệm Phân tích chi tiết tác phẩm Phong cách Hồ Chí Minh\n",
      "\n",
      "🔗 Truy cập: Trắc nghiệm Tổng hợp đề đọc hiểu văn bản Phong cách Hồ Chí Minh\n",
      "\n",
      "✅ Đã lưu 61 câu hỏi vào: D:/NCKH/estimate_question_difficulty/output/văn.json\n"
     ]
    },
    {
     "ename": "",
     "evalue": "",
     "output_type": "error",
     "traceback": [
      "\u001b[1;31mThe Kernel crashed while executing code in the current cell or a previous cell. \n",
      "\u001b[1;31mPlease review the code in the cell(s) to identify a possible cause of the failure. \n",
      "\u001b[1;31mClick <a href='https://aka.ms/vscodeJupyterKernelCrash'>here</a> for more info. \n",
      "\u001b[1;31mView Jupyter <a href='command:jupyter.viewOutput'>log</a> for further details."
     ]
    }
   ],
   "source": [
    "for subject, filepath in subject_files.items():\n",
    "    print(f\"\\nĐANG XỬ LÝ MÔN: {subject}\")\n",
    "    results = []\n",
    "    #lấy sl câu hỏi\n",
    "    count = 0 \n",
    "\n",
    "    with open(filepath, mode='r', encoding='utf-8-sig') as f:\n",
    "        reader = csv.DictReader(f)\n",
    "        for row in reader:\n",
    "            if count >= 50:\n",
    "                break\n",
    "            title = row[\"Title\"]\n",
    "            link = row[\"Link\"]\n",
    "            \n",
    "            print(f\"\\n🔗 Truy cập: {title}\")\n",
    "            try:\n",
    "                driver.get(link)\n",
    "                time.sleep(2)  # đợi trang load\n",
    "\n",
    "                questions = driver.find_elements(By.CSS_SELECTOR, \"div.quiz-answer-item\")\n",
    "                for  q in questions:\n",
    "                    try:\n",
    "                        # Câu hỏi (HTML -> text sạch)\n",
    "                        question_html = q.find_element(By.CSS_SELECTOR, \"div.title-question\").get_attribute(\"innerHTML\")\n",
    "                        question_text = BeautifulSoup(question_html, \"html.parser\").get_text(separator=\" \", strip=True)\n",
    "\n",
    "                        # Đáp án\n",
    "                        answer_elems = q.find_elements(By.CSS_SELECTOR, \"div.answers label\")\n",
    "                        answers = [ans.text.strip() for ans in answer_elems if ans.text.strip()]\n",
    "                        \n",
    "                        # Lấy phần tử chứa giải thích và đáp án\n",
    "                        reason_elem = q.find_element(By.CLASS_NAME, \"reason\")\n",
    "                        reason_html = reason_elem.get_attribute(\"innerHTML\")\n",
    "\n",
    "                        import re\n",
    "                        soup = BeautifulSoup(reason_html, \"html.parser\")\n",
    "                        text = soup.get_text(separator=\"\\n\", strip=True) \n",
    "                        match = re.search(r\"Đáp án(?: cần chọn là)?[:：]\\s*([A-D])\", text, re.IGNORECASE)\n",
    "                        correct_answer = match.group(1).upper() if match else None\n",
    "                        \n",
    "                        if correct_answer:\n",
    "                            explanation_text = re.sub(r\"Đáp án(?: cần chọn là)?[:：]?\\s*\"+re.escape(correct_answer), \"\", text, flags=re.IGNORECASE).strip()\n",
    "                        else:\n",
    "                            explanation_text = text.strip()\n",
    "                        cleaned_explanation = \" \".join(explanation_text.split())\n",
    "                        explanation = cleaned_explanation if cleaned_explanation and not cleaned_explanation.startswith(\"Đáp án\") else None\n",
    "\n",
    "                        result_item = {\n",
    "                            \"question\": question_text,\n",
    "                            \"answers\": answers,\n",
    "                            \"correct_answer\": correct_answer\n",
    "                        }\n",
    "\n",
    "                        if explanation:\n",
    "                            result_item[\"explanation\"] = explanation\n",
    "\n",
    "                        results.append(result_item)\n",
    "                        count += 1\n",
    "                        # #In kết quả\n",
    "                        # print(f\"Câu hỏi: {question_text}\")\n",
    "                        # for ans in answers:\n",
    "                        #     print(f\"   - {ans}\")\n",
    "                        # print(\"📘 Full text:\", text)\n",
    "                    except:\n",
    "                        continue\n",
    "            except Exception as e:\n",
    "                print(f\"Lỗi khi xử lý {title}: {e}\")\n",
    "\n",
    "# 💾 Lưu kết quả vào file JSON\n",
    "output_path = f\"D:/NCKH/estimate_question_difficulty/output/{subject.lower()}.json\"\n",
    "with open(output_path, \"w\", encoding=\"utf-8\") as out_file:\n",
    "    json.dump(results, out_file, ensure_ascii=False, indent=2)\n",
    "print(f\"\\n✅ Đã lưu {len(results)} câu hỏi vào: {output_path}\")\n",
    "\n",
    "# Đóng trình duyệt\n",
    "driver.quit()\n",
    "                \n",
    "\n"
   ]
  },
  {
   "cell_type": "code",
   "execution_count": null,
   "id": "c61f04d9",
   "metadata": {},
   "outputs": [],
   "source": []
  }
 ],
 "metadata": {
  "kernelspec": {
   "display_name": "Python 3",
   "language": "python",
   "name": "python3"
  },
  "language_info": {
   "codemirror_mode": {
    "name": "ipython",
    "version": 3
   },
   "file_extension": ".py",
   "mimetype": "text/x-python",
   "name": "python",
   "nbconvert_exporter": "python",
   "pygments_lexer": "ipython3",
   "version": "3.11.0"
  }
 },
 "nbformat": 4,
 "nbformat_minor": 5
}

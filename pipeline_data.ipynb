{
 "cells": [
  {
   "cell_type": "code",
   "execution_count": 9,
   "id": "55115092",
   "metadata": {},
   "outputs": [],
   "source": [
    "# !pip install vncorenlp nbimporter\n",
    "# !pip install pandas transformers torch underthesea vncorenlp tqdm hf_xet"
   ]
  },
  {
   "cell_type": "markdown",
   "id": "028fdfb8",
   "metadata": {},
   "source": [
    "data_process->word_segment ->̣̣̣̣(emb_different + complex) -> merged -> training-> check"
   ]
  },
  {
   "cell_type": "code",
   "execution_count": 10,
   "id": "43e92a0a",
   "metadata": {},
   "outputs": [],
   "source": [
    "import nbimporter\n",
    "import importlib\n",
    "\n",
    "from vncorenlp import VnCoreNLP\n",
    "import json, re\n",
    "import numpy as np\n",
    "import pandas as pd\n",
    "import torch\n",
    "import math\n",
    "from tqdm import tqdm\n",
    "from sklearn.decomposition import TruncatedSVD\n",
    "#import mô hình\n",
    "from underthesea import word_tokenize, pos_tag\n",
    "from transformers import AutoTokenizer, AutoModel, AutoModelForCausalLM\n",
    "#import file\n",
    "from data_process import run_data_processed, clean_question, clean_word\n",
    "from Embedding.word_segment import word_segment, ws_question, ori_question\n",
    "from Embedding.emb_different import get_diff\n",
    "from Embedding.sen_complex import run_sen_comlex"
   ]
  },
  {
   "cell_type": "code",
   "execution_count": 11,
   "id": "17919d30",
   "metadata": {},
   "outputs": [],
   "source": [
    "def data_process():\n",
    "    subject_files = {\n",
    "    \"Văn_học\": \"output/văn.json\",\n",
    "    # \"sử\": \"output/sử.json\",\n",
    "    # \"địa\": \"output/địa.json\",\n",
    "    # \"anh\": \"output/anh_văn.json\"\n",
    "    }\n",
    "    all_data = {}\n",
    "    for subject, file_path in subject_files.items():\n",
    "        try:\n",
    "            with open(file_path, \"r\", encoding=\"utf-8\") as f:\n",
    "                all_data[subject] = json.load(f)\n",
    "            print(f\"Loaded {len(all_data[subject])} questions from {subject}\")\n",
    "        except FileNotFoundError:\n",
    "            print(f\"Warning: File not found - {file_path}\")\n",
    "            continue\n",
    "    qa_pairs = []\n",
    "    processed_qa = []\n",
    "    clean_question(qa_pairs, all_data)\n",
    "    clean_word(processed_qa, qa_pairs)\n",
    "    run_data_processed(qa_pairs)"
   ]
  },
  {
   "cell_type": "code",
   "execution_count": 12,
   "id": "f4337f58",
   "metadata": {},
   "outputs": [],
   "source": [
    "def run_embedding():\n",
    "    input_file = r\"data_processed\\Văn_học_processed.txt\"\n",
    "    output_file = r\"Embedding\\Output_ws\\qa_processed_ws.txt\"\n",
    "    print(\"---------Đang xử lý Word Segment--------------\\n\")\n",
    "    word_segment(input_file, output_file)\n",
    "    print(\"---------Đã xử lý xong Word Segment----------\\n\")\n",
    "\n",
    "    #------------- xử lý data word segment--------------------------------\n",
    "    print(\"---------Đang xử lý ws_question--------------\\n\")\n",
    "    output_file_ws = r\"Embedding\\Output_ws\\questions.json\"\n",
    "    ws_question(output_file, output_file_ws)\n",
    "    print(\"---------Đã xử lý xong ws_question----------\\n\")\n",
    "\n",
    "    #-------------clean data nguyên bản-----------------------\n",
    "    print(\"---------Đang xử lý ori_question--------------\\n\")\n",
    "    output_file_ori = r\"Embedding\\Output_ws\\ori_questions.json\"\n",
    "    ori_question(input_file, output_file_ori)\n",
    "    print(\"---------Đã xử lý xong ori_question----------\\n\")"
   ]
  },
  {
   "cell_type": "code",
   "execution_count": 13,
   "id": "aa3278e2",
   "metadata": {},
   "outputs": [],
   "source": [
    "def create_different_feartures():\n",
    "    input = r\"Embedding\\Output_ws\\questions.json\"\n",
    "    output = r\"Embedding\\Output_features\"\n",
    "    \n",
    "    tokenizer = AutoTokenizer.from_pretrained(\"vinai/phobert-base\", use_fast=False)\n",
    "    model = AutoModel.from_pretrained(\"vinai/phobert-base\")\n",
    "    print(f\"---------Đang tính toán độ lệch embedding giữa các options-------------\\n\")\n",
    "    get_diff(input, output, tokenizer, model)\n"
   ]
  },
  {
   "cell_type": "code",
   "execution_count": null,
   "id": "6d972142",
   "metadata": {},
   "outputs": [],
   "source": [
    "def load_lit_terms(txt_file=r\"create_lit_terms\\lit_terms.txt\"):\n",
    "    \"\"\"\n",
    "    Đọc danh sách thuật ngữ từ file txt thành set\n",
    "    \"\"\"\n",
    "    with open(txt_file, \"r\", encoding=\"utf-8\") as f:\n",
    "        terms = {line.strip().lower() for line in f if line.strip()}\n",
    "    print(f\"📖 Đã load {len(terms)} thuật ngữ từ {txt_file}\")\n",
    "    return terms\n",
    "\n",
    "def create_sentence_comlex_feartures():\n",
    "    device = \"cuda\" if torch.cuda.is_available() else \"cpu\"\n",
    "    print(\"⚡ Using device:\", device)\n",
    "    # PhoBERT cho embedding\n",
    "    phobert_tokenizer = AutoTokenizer.from_pretrained(\"vinai/phobert-base\", use_fast=False)\n",
    "    phobert_model = AutoModel.from_pretrained(\"vinai/phobert-base\").to(device)\n",
    "    phobert_model.eval()\n",
    "    # GPT2 tiếng Việt cho perplexity\n",
    "    gpt2_tokenizer = AutoTokenizer.from_pretrained(\"NlpHUST/gpt2-vietnamese\")\n",
    "    gpt2_model = AutoModelForCausalLM.from_pretrained(\"NlpHUST/gpt2-vietnamese\").to(device)\n",
    "    gpt2_model.eval()\n",
    "\n",
    "    connectors = {\"và\",\"hoặc\",\"nhưng\",\"tuy nhiên\",\"cũng như là\",\"nên\",\"mà\",\n",
    "              \"nếu\",\"thì\",\"bởi vì\",\"vì\",\"khi\",\"mặc dù\",\"để\",\"sau\",\"sau_khi\",\n",
    "              \"trước\",\"trước khi\",\"hay\",\"do\",\"do đó\",\"hễ\",\"lẫn\",\"cùng\",\n",
    "              \"ngoài ra\",\"vậy\",\"trừ phi\",\"hơn\",\"bằng\",\"như\",\"dù cho\",\n",
    "              \"nhằm\",\"vì vậy\",\"ngược lại\",\"chỉ\",\"chỉ trừ\"}\n",
    "    lit_terms = load_lit_terms(\"lit_terms.txt\")\n",
    "    svd = TruncatedSVD(n_components=128) \n",
    "    input_file = r\"Embedding\\Output_ws\\ori_questions.json\"\n",
    "    output_file = r\"Embedding\\Output_features\\question_features.csv\"\n",
    "    print(\"------------------------Đang tính toán độ phức tạp giữa các options------------------------\")\n",
    "    run_sen_comlex(input_file,output_file, connectors, phobert_tokenizer\n",
    "                   , phobert_model, gpt2_tokenizer, gpt2_model, device, lit_terms, svd)\n"
   ]
  },
  {
   "cell_type": "code",
   "execution_count": 15,
   "id": "ec6b21b9",
   "metadata": {},
   "outputs": [],
   "source": [
    "def merger_data():\n",
    "    print(f\"--------------------------------------Đang kết hợp data--------------------------------------\")\n",
    "    df1 = pd.read_csv(r\"Embedding\\Output_features\\noise_features.csv\")\n",
    "    df2 = pd.read_csv(r\"Embedding\\Output_features\\question_features.csv\")\n",
    "    df3 = pd.read_csv(r\"training\\data_for_training\\van_with_bloom_out.csv\")\n",
    "    merged = pd.merge(df1, df2, on = \"id\", how = \"inner\")\n",
    "    merged = pd.merge(merged, df3, on = \"id\", how = \"inner\")\n",
    "    result = merged.drop(columns=[\"question_x\", \"answer\", \"subject\", \"question_y\",\"question\"])\n",
    "    result.to_csv(\"training\\merged.csv\", index = False)\n",
    "    print(\"Done.........\")"
   ]
  },
  {
   "cell_type": "code",
   "execution_count": 16,
   "id": "f1ef2706",
   "metadata": {},
   "outputs": [],
   "source": [
    "def create_lit_terms():\n",
    "    df1 = pd.read_csv(r\"create_lit_terms\\bold_words.csv\", encoding=\"utf-8-sig\")\n",
    "    df2 = pd.read_csv(r\"create_lit_terms\\bold_words_2.csv\", encoding = \"utf-8-sig\")\n",
    "\n",
    "    df1[\"Bold Words\"] = df1[\"Bold Words\"].str.lower()\n",
    "    df2[\"Bold Words\"] = df2[\"Bold Words\"].str.lower()\n",
    "\n",
    "    merged = pd.concat([df1, df2], ignore_index=True)\n",
    "    unique_words = merged.drop_duplicates(subset=[\"Bold Words\"], keep=\"first\")[\"Bold Words\"]\n",
    "    # Xuất TXT\n",
    "    output_file = \"lit_terms.txt\"\n",
    "    with open(output_file, \"w\", encoding=\"utf-8\") as f:\n",
    "        for word in unique_words:\n",
    "            f.write(word.strip() + \"\\n\")\n",
    "\n",
    "    print(f\"✅ Đã tạo file {output_file}\")\n",
    "    print(\"🔢 Số lượng từ duy nhất:\", len(unique_words))"
   ]
  },
  {
   "cell_type": "code",
   "execution_count": 17,
   "id": "1fc582fb",
   "metadata": {},
   "outputs": [
    {
     "name": "stdout",
     "output_type": "stream",
     "text": [
      "---------Đang xử lý Word Segment--------------\n",
      "\n"
     ]
    },
    {
     "name": "stderr",
     "output_type": "stream",
     "text": [
      "Word Segmenting: 100%|██████████| 40013/40013 [07:21<00:00, 90.69it/s] \n"
     ]
    },
    {
     "name": "stdout",
     "output_type": "stream",
     "text": [
      "✅ Word segmentation done.\n",
      "---------Đã xử lý xong Word Segment----------\n",
      "\n",
      "---------Đang xử lý ws_question--------------\n",
      "\n",
      "✅ Đã chuyển 3097 câu hỏi sang JSON\n",
      "---------Đã xử lý xong ws_question----------\n",
      "\n",
      "---------Đang xử lý ori_question--------------\n",
      "\n",
      "✅ Đã chuyển thành công 3097 câu hỏi sang file json\n",
      "---------Đã xử lý xong ori_question----------\n",
      "\n",
      "✅ Đã tạo file lit_terms.txt\n",
      "🔢 Số lượng từ duy nhất: 213\n",
      "---------Đang tính toán độ lệch embedding giữa các options-------------\n",
      "\n"
     ]
    },
    {
     "name": "stderr",
     "output_type": "stream",
     "text": [
      "  2%|▏         | 56/3097 [00:12<20:15,  2.50it/s]"
     ]
    },
    {
     "name": "stdout",
     "output_type": "stream",
     "text": [
      "Lỗi khi embedding câu hỏi id=59, môn=Văn_học\n",
      "Lỗi khi embedding câu hỏi id=60, môn=Văn_học\n"
     ]
    },
    {
     "name": "stderr",
     "output_type": "stream",
     "text": [
      "  9%|▊         | 265/3097 [00:53<09:15,  5.09it/s]"
     ]
    },
    {
     "name": "stdout",
     "output_type": "stream",
     "text": [
      "Lỗi khi embedding câu hỏi id=280, môn=Văn_học\n",
      "Lỗi khi embedding câu hỏi id=282, môn=Văn_học\n"
     ]
    },
    {
     "name": "stderr",
     "output_type": "stream",
     "text": [
      "  9%|▉         | 273/3097 [00:55<06:54,  6.81it/s]"
     ]
    },
    {
     "name": "stdout",
     "output_type": "stream",
     "text": [
      "Lỗi khi embedding câu hỏi id=288, môn=Văn_học\n"
     ]
    },
    {
     "name": "stderr",
     "output_type": "stream",
     "text": [
      "  9%|▉         | 275/3097 [00:55<06:01,  7.80it/s]"
     ]
    },
    {
     "name": "stdout",
     "output_type": "stream",
     "text": [
      "Lỗi khi embedding câu hỏi id=290, môn=Văn_học\n"
     ]
    },
    {
     "name": "stderr",
     "output_type": "stream",
     "text": [
      " 56%|█████▌    | 1729/3097 [05:33<14:07,  1.61it/s]"
     ]
    },
    {
     "name": "stdout",
     "output_type": "stream",
     "text": [
      "Lỗi khi embedding câu hỏi id=1813, môn=Văn_học\n"
     ]
    },
    {
     "name": "stderr",
     "output_type": "stream",
     "text": [
      " 58%|█████▊    | 1803/3097 [05:53<11:46,  1.83it/s]"
     ]
    },
    {
     "name": "stdout",
     "output_type": "stream",
     "text": [
      "Lỗi khi embedding câu hỏi id=1891, môn=Văn_học\n",
      "Lỗi khi embedding câu hỏi id=1892, môn=Văn_học\n",
      "Lỗi khi embedding câu hỏi id=1893, môn=Văn_học\n",
      "Lỗi khi embedding câu hỏi id=1894, môn=Văn_học\n",
      "Lỗi khi embedding câu hỏi id=1895, môn=Văn_học\n"
     ]
    },
    {
     "name": "stderr",
     "output_type": "stream",
     "text": [
      " 61%|██████    | 1886/3097 [06:14<04:17,  4.71it/s]"
     ]
    },
    {
     "name": "stdout",
     "output_type": "stream",
     "text": [
      "Lỗi khi embedding câu hỏi id=1978, môn=Văn_học\n",
      "Lỗi khi embedding câu hỏi id=1979, môn=Văn_học\n",
      "Lỗi khi embedding câu hỏi id=1980, môn=Văn_học\n",
      "Lỗi khi embedding câu hỏi id=1981, môn=Văn_học\n",
      "Lỗi khi embedding câu hỏi id=1982, môn=Văn_học\n"
     ]
    },
    {
     "name": "stderr",
     "output_type": "stream",
     "text": [
      " 66%|██████▌   | 2039/3097 [06:46<04:46,  3.69it/s]"
     ]
    },
    {
     "name": "stdout",
     "output_type": "stream",
     "text": [
      "Lỗi khi embedding câu hỏi id=2133, môn=Văn_học\n",
      "Lỗi khi embedding câu hỏi id=2134, môn=Văn_học\n"
     ]
    },
    {
     "name": "stderr",
     "output_type": "stream",
     "text": [
      "100%|██████████| 3097/3097 [10:24<00:00,  4.96it/s]\n"
     ]
    },
    {
     "name": "stdout",
     "output_type": "stream",
     "text": [
      "--------Đã hoàn thành xong feartures tính độ lệch nhau giữa các options-------------\n",
      " Embedding\\Output_features\\noise_features.csv\n",
      "⚡ Using device: cpu\n",
      "📖 Đã load 212 thuật ngữ từ lit_terms.txt\n",
      "------------------------Đang tính toán độ lệch giữa các options------------------------\n"
     ]
    },
    {
     "name": "stderr",
     "output_type": "stream",
     "text": [
      "Processing questions:   0%|          | 0/3097 [00:00<?, ?it/s]`loss_type=None` was set in the config but it is unrecognised.Using the default loss: `ForCausalLMLoss`.\n",
      "Processing questions: 100%|██████████| 3097/3097 [06:58<00:00,  7.39it/s]\n"
     ]
    },
    {
     "name": "stdout",
     "output_type": "stream",
     "text": [
      "✅ Đã xuất độ phức tạp của câu hỏi sang file CSV: Embedding\\Output_features\\question_features.csv\n",
      "   id  subject                                           question  \\\n",
      "0   1  Văn_học  Từ  Văn hóa trong văn bản  Phong cách Hồ Chí M...   \n",
      "1   2  Văn_học  Ý nào nói lên việc tiếp thu có chọn lọc tinh h...   \n",
      "2   3  Văn_học  Vấn đề chủ yếu được nói tới trong văn bản Phon...   \n",
      "3   4  Văn_học  Theo tác giả quan niệm thẩm mĩ về cuộc sống củ...   \n",
      "4   5  Văn_học         Từ nào sau đây trái nghĩa với truân chuyên   \n",
      "\n",
      "   sentence_length  avg_word_length  num_clauses  num_punct  num_nouns  \\\n",
      "0                8         6.250000            0          0          4   \n",
      "1               19         5.000000            0          0          7   \n",
      "2               11         5.454545            0          0          4   \n",
      "3               11         5.818182            0          0          5   \n",
      "4                8         4.375000            1          0          2   \n",
      "\n",
      "   num_verbs  num_adjs  ...   emb_118   emb_119   emb_120   emb_121   emb_122  \\\n",
      "0          1         0  ... -0.092035 -0.013289  0.086528  0.049509 -0.012590   \n",
      "1          8         0  ... -0.151438  0.269236  0.109473  0.191930  0.340149   \n",
      "2          3         1  ... -0.115207  0.119910 -0.056836  0.262216 -0.318201   \n",
      "3          3         0  ... -0.054284 -0.154481  0.057942  0.029114 -0.079631   \n",
      "4          1         1  ... -0.065860 -0.255115  0.102225 -0.112054 -0.041635   \n",
      "\n",
      "    emb_123   emb_124   emb_125   emb_126   emb_127  \n",
      "0  0.060523 -0.189634  0.264915  0.158600  0.047479  \n",
      "1 -0.091962  0.269836  0.101109 -0.145045  0.164242  \n",
      "2  0.047343  0.067554  0.193902  0.038842  0.034481  \n",
      "3 -0.069470  0.272596 -0.039150 -0.045145  0.069785  \n",
      "4 -0.031163 -0.092182  0.023228  0.063303  0.307079  \n",
      "\n",
      "[5 rows x 140 columns]\n",
      "--------------------------------------Đang kết hợp data--------------------------------------\n",
      "Done.........\n"
     ]
    }
   ],
   "source": [
    "# data_process()\n",
    "run_embedding()\n",
    "\n",
    "create_lit_terms()\n",
    "create_different_feartures()\n",
    "create_sentence_comlex_feartures()\n",
    "merger_data()\n"
   ]
  }
 ],
 "metadata": {
  "kernelspec": {
   "display_name": "Python 3",
   "language": "python",
   "name": "python3"
  },
  "language_info": {
   "codemirror_mode": {
    "name": "ipython",
    "version": 3
   },
   "file_extension": ".py",
   "mimetype": "text/x-python",
   "name": "python",
   "nbconvert_exporter": "python",
   "pygments_lexer": "ipython3",
   "version": "3.11.0"
  }
 },
 "nbformat": 4,
 "nbformat_minor": 5
}

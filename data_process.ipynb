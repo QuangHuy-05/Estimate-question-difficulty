{
 "cells": [
  {
   "cell_type": "code",
   "execution_count": 2,
   "id": "899851ee",
   "metadata": {},
   "outputs": [
    {
     "name": "stdout",
     "output_type": "stream",
     "text": [
      "Loaded 61 questions from văn\n",
      "Loaded 55 questions from sử\n",
      "Loaded 50 questions from địa\n",
      "Loaded 72 questions from anh\n"
     ]
    }
   ],
   "source": [
    "import json\n",
    "import re\n",
    "import unicodedata\n",
    "import os\n",
    "from vncorenlp import VnCoreNLP\n",
    "\n",
    "subject_files = {\n",
    "    \"văn\": \"output/văn.json\",\n",
    "    \"sử\": \"output/sử.json\",\n",
    "    \"địa\": \"output/địa.json\",\n",
    "    \"anh\": \"output/anh_văn.json\"\n",
    "}\n",
    "\n",
    "all_data = {}\n",
    "\n",
    "for subject, file_path in subject_files.items():\n",
    "    try:\n",
    "        with open(file_path, \"r\", encoding=\"utf-8\") as f:\n",
    "            all_data[subject] = json.load(f)\n",
    "        print(f\"Loaded {len(all_data[subject])} questions from {subject}\")\n",
    "    except FileNotFoundError:\n",
    "        print(f\"Warning: File not found - {file_path}\")\n",
    "        continue\n",
    "\n"
   ]
  },
  {
   "cell_type": "code",
   "execution_count": 3,
   "id": "075120b1",
   "metadata": {},
   "outputs": [],
   "source": [
    "def clean_text(text):\n",
    "    if not isinstance(text, str):\n",
    "        return \"\"\n",
    "    # Chuẩn hóa Unicode (xử lý dấu tiếng Việt)\n",
    "    text = unicodedata.normalize(\"NFC\", text)\n",
    "\n",
    "    # Bỏ xuống dòng, tab, khoảng trắng thừa\n",
    "    text = re.sub(r\"\\s+\", \" \", text)\n",
    "\n",
    "    # Bỏ ký tự đặc biệt không cần thiết\n",
    "    text = re.sub(r\"[^\\w\\sÀ-ỹ]\", \"\", text)\n",
    "\n",
    "    return text.strip()"
   ]
  },
  {
   "cell_type": "code",
   "execution_count": null,
   "id": "0260dbf2",
   "metadata": {},
   "outputs": [
    {
     "name": "stdout",
     "output_type": "stream",
     "text": [
      "Ví dụ câu hỏi sau khi làm sạch:\n",
      "['Từ  Văn hóa trong văn bản  Phong cách Hồ Chí Minh được hiểu', 'Ý nào nói lên việc tiếp thu có chọn lọc tinh hoa văn hóa nước ngoài của Hồ Chí Minh không được nêu trong bài viết', 'Vấn đề chủ yếu được nói tới trong văn bản Phong cách Hồ Chí Minh là gì', 'Theo tác giả quan niệm thẩm mĩ về cuộc sống của Chủ tịch Hồ Chí Minh là gì', 'Từ nào sau đây trái nghĩa với truân chuyên']\n"
     ]
    }
   ],
   "source": [
    "# Lấy và làm sạch câu hỏi\n",
    "questions = []\n",
    "for item in all_data.get(\"văn\", []):\n",
    "    if \"question\" in item:\n",
    "        text = clean_text(item[\"question\"])\n",
    "        if text:  # chỉ lấy nếu còn nội dung\n",
    "            questions.append(text)\n",
    "\n",
    "print(\"Ví dụ câu hỏi sau khi làm sạch:\")\n",
    "print(questions[:5])"
   ]
  },
  {
   "cell_type": "code",
   "execution_count": 6,
   "id": "de012b51",
   "metadata": {},
   "outputs": [],
   "source": [
    "# Tách từ\n",
    "def simple_tokenize(text):\n",
    "    # Basic Vietnamese word segmentation\n",
    "    text = re.sub(r'([A-Za-z])([0-9])', r'\\1 \\2', text)\n",
    "    text = re.sub(r'([0-9])([A-Za-z])', r'\\1 \\2', text)\n",
    "    text = re.sub(r'([a-z])([A-Z])', r'\\1 \\2', text)\n",
    "    return text\n",
    "\n",
    "questions_tokenized = [simple_tokenize(q) for q in questions]"
   ]
  },
  {
   "cell_type": "code",
   "execution_count": 7,
   "id": "66e86faa",
   "metadata": {},
   "outputs": [
    {
     "name": "stdout",
     "output_type": "stream",
     "text": [
      "\n",
      "Dữ liệu đã được lưu vào 'questions_cleaned.txt'\n"
     ]
    }
   ],
   "source": [
    "# Lưu kết quả vào file\n",
    "with open(\"questions_cleaned.txt\", \"w\", encoding=\"utf-8\") as f:\n",
    "    for q in questions_tokenized:\n",
    "        f.write(q + \"\\n\")\n",
    "print(\"\\nDữ liệu đã được lưu vào 'questions_cleaned.txt'\")"
   ]
  }
 ],
 "metadata": {
  "kernelspec": {
   "display_name": "Python 3",
   "language": "python",
   "name": "python3"
  },
  "language_info": {
   "codemirror_mode": {
    "name": "ipython",
    "version": 3
   },
   "file_extension": ".py",
   "mimetype": "text/x-python",
   "name": "python",
   "nbconvert_exporter": "python",
   "pygments_lexer": "ipython3",
   "version": "3.13.3"
  }
 },
 "nbformat": 4,
 "nbformat_minor": 5
}

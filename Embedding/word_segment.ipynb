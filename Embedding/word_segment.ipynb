{
 "cells": [
  {
   "cell_type": "code",
   "execution_count": 31,
   "id": "dbfc687d",
   "metadata": {},
   "outputs": [
    {
     "name": "stdout",
     "output_type": "stream",
     "text": [
      "Requirement already satisfied: vncorenlp in c:\\users\\quang\\appdata\\local\\programs\\python\\python311\\lib\\site-packages (1.0.3)\n",
      "Requirement already satisfied: requests in c:\\users\\quang\\appdata\\local\\programs\\python\\python311\\lib\\site-packages (from vncorenlp) (2.32.5)\n",
      "Requirement already satisfied: charset_normalizer<4,>=2 in c:\\users\\quang\\appdata\\local\\programs\\python\\python311\\lib\\site-packages (from requests->vncorenlp) (3.4.3)\n",
      "Requirement already satisfied: idna<4,>=2.5 in c:\\users\\quang\\appdata\\local\\programs\\python\\python311\\lib\\site-packages (from requests->vncorenlp) (3.10)\n",
      "Requirement already satisfied: urllib3<3,>=1.21.1 in c:\\users\\quang\\appdata\\local\\programs\\python\\python311\\lib\\site-packages (from requests->vncorenlp) (2.5.0)\n",
      "Requirement already satisfied: certifi>=2017.4.17 in c:\\users\\quang\\appdata\\local\\programs\\python\\python311\\lib\\site-packages (from requests->vncorenlp) (2025.8.3)\n"
     ]
    },
    {
     "name": "stderr",
     "output_type": "stream",
     "text": [
      "\n",
      "[notice] A new release of pip available: 22.3 -> 25.2\n",
      "[notice] To update, run: python.exe -m pip install --upgrade pip\n"
     ]
    }
   ],
   "source": [
    "!pip install vncorenlp"
   ]
  },
  {
   "cell_type": "code",
   "execution_count": 32,
   "id": "327dd942",
   "metadata": {},
   "outputs": [
    {
     "name": "stdout",
     "output_type": "stream",
     "text": [
      "[['Hồ_Chí_Minh', 'là', 'lãnh_tụ', 'vĩ_đại']]\n"
     ]
    }
   ],
   "source": [
    "from vncorenlp import VnCoreNLP\n",
    "\n",
    "rdrsegmenter = VnCoreNLP(\n",
    "    r\"D:\\Download\\VnCoreNLP-1.1.1\\VnCoreNLP-1.1.1\\VnCoreNLP-1.1.1.jar\",\n",
    "    annotators=\"wseg\",\n",
    "    max_heap_size='-Xmx2g'\n",
    ")\n",
    "print(rdrsegmenter.tokenize(\"Hồ Chí Minh là lãnh tụ vĩ đại\"))"
   ]
  },
  {
   "cell_type": "code",
   "execution_count": 33,
   "id": "3e3aa680",
   "metadata": {},
   "outputs": [],
   "source": [
    "input_file = r\"D:\\NCKH\\estimate_question_difficulty\\Embedding\\Input\\qa_processed.txt\"\n",
    "output_file = r\"D:\\NCKH\\estimate_question_difficulty\\Embedding\\Output_ws\\qa_processed_ws.txt\"\n",
    "\n",
    "with open(input_file, \"r\", encoding=\"utf-8\") as f:\n",
    "    lines = f.readlines()\n",
    "\n",
    "with open(output_file, \"w\", encoding=\"utf-8\") as f:\n",
    "    for line in lines:\n",
    "        line = line.strip()\n",
    "        if line:\n",
    "            segmented = rdrsegmenter.tokenize(line)\n",
    "            f.write(\" \".join(segmented[0]) + \"\\n\")"
   ]
  },
  {
   "cell_type": "code",
   "execution_count": 35,
   "id": "e8522cc2",
   "metadata": {},
   "outputs": [
    {
     "name": "stdout",
     "output_type": "stream",
     "text": [
      "Bỏ qua câu 40, đáp án không khớp với options.\n",
      "✅ Đã chuyển thành công 59 câu hỏi sang questions.json\n"
     ]
    }
   ],
   "source": [
    "import json\n",
    "import re\n",
    "\n",
    "# Đọc file txt\n",
    "with open(r\"D:\\NCKH\\estimate_question_difficulty\\Embedding\\Output_ws\\qa_processed_ws.txt\", \"r\", encoding=\"utf-8\") as f:\n",
    "    text = f.read()\n",
    "\n",
    "# Tách các block câu hỏi bằng chuỗi gạch ngang dài\n",
    "blocks = [b.strip() for b in text.split(\"- - - - - - - - - - - - - - - - - - - - - - - - - - - - - - - - - - - - - - - - - - - - - - - - - -\") if b.strip()]\n",
    "\n",
    "questions = []\n",
    "for i, block in enumerate(blocks, start=1):\n",
    "    subject_match = re.search(r\"Môn\\s*:\\s*(.+)\", block)\n",
    "    subject = subject_match.group(1).strip() if subject_match else None\n",
    "\n",
    "    question_match = re.search(r\"Câu hỏi\\s*:\\s*(.+)\", block)\n",
    "    question = question_match.group(1).strip() if question_match else None\n",
    "\n",
    "    options = re.findall(r\"\\d+\\s*\\.\\s*([A-D])\\s+(.+)\", block)\n",
    "    options_dict = {opt[0]: opt[1].strip() for opt in options} if options else {}\n",
    "\n",
    "    answer_match = re.search(r\"Đáp[_ ]?án đúng\\s*:\\s*([A-D](?:[,;]\\s*[A-D])*)\", block)\n",
    "    if answer_match:\n",
    "        answer_keys = [a.strip() for a in re.split(r\"[,;]\", answer_match.group(1))]\n",
    "    else:\n",
    "        answer_keys = []\n",
    "\n",
    "    if not answer_keys:\n",
    "        continue\n",
    "    valid_answers = [options_dict[a] for a in answer_keys if a in options_dict]\n",
    "\n",
    "    if subject and question and options_dict and all(a in options_dict for a in answer_keys):\n",
    "        options_list = list(options_dict.values())\n",
    "\n",
    "        questions.append({\n",
    "            \"id\": i,\n",
    "            \"subject\": subject,\n",
    "            \"question\": question,\n",
    "            \"options\": options_list,\n",
    "            \"answer\": valid_answers if len(valid_answers) > 1 else valid_answers[0]\n",
    "        })\n",
    "    else:\n",
    "        print(f\"Bỏ qua câu {i}, đáp án không khớp với options.\")\n",
    "\n",
    "with open(r\"D:\\NCKH\\estimate_question_difficulty\\Embedding\\Output_ws\\questions.json\", \"w\", encoding=\"utf-8\") as f:\n",
    "    json.dump(questions, f, ensure_ascii=False, indent=4)\n",
    "\n",
    "print(f\"✅ Đã chuyển thành công {len(questions)} câu hỏi sang questions.json\")"
   ]
  }
 ],
 "metadata": {
  "kernelspec": {
   "display_name": "Python 3",
   "language": "python",
   "name": "python3"
  },
  "language_info": {
   "codemirror_mode": {
    "name": "ipython",
    "version": 3
   },
   "file_extension": ".py",
   "mimetype": "text/x-python",
   "name": "python",
   "nbconvert_exporter": "python",
   "pygments_lexer": "ipython3",
   "version": "3.11.0"
  }
 },
 "nbformat": 4,
 "nbformat_minor": 5
}

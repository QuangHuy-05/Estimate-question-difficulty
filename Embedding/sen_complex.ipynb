{
 "cells": [
  {
   "cell_type": "code",
   "execution_count": 48,
   "id": "154afca0",
   "metadata": {},
   "outputs": [
    {
     "name": "stdout",
     "output_type": "stream",
     "text": [
      "Requirement already satisfied: pandas in c:\\users\\quang\\appdata\\local\\programs\\python\\python311\\lib\\site-packages (2.3.2)\n",
      "Requirement already satisfied: transformers in c:\\users\\quang\\appdata\\local\\programs\\python\\python311\\lib\\site-packages (4.55.4)\n",
      "Requirement already satisfied: torch in c:\\users\\quang\\appdata\\local\\programs\\python\\python311\\lib\\site-packages (2.8.0)\n",
      "Requirement already satisfied: underthesea in c:\\users\\quang\\appdata\\local\\programs\\python\\python311\\lib\\site-packages (6.8.4)\n",
      "Requirement already satisfied: vncorenlp in c:\\users\\quang\\appdata\\local\\programs\\python\\python311\\lib\\site-packages (1.0.3)\n",
      "Requirement already satisfied: numpy>=1.23.2 in c:\\users\\quang\\appdata\\local\\programs\\python\\python311\\lib\\site-packages (from pandas) (2.3.2)\n",
      "Requirement already satisfied: python-dateutil>=2.8.2 in c:\\users\\quang\\appdata\\roaming\\python\\python311\\site-packages (from pandas) (2.9.0.post0)\n",
      "Requirement already satisfied: pytz>=2020.1 in c:\\users\\quang\\appdata\\local\\programs\\python\\python311\\lib\\site-packages (from pandas) (2025.2)\n",
      "Requirement already satisfied: tzdata>=2022.7 in c:\\users\\quang\\appdata\\local\\programs\\python\\python311\\lib\\site-packages (from pandas) (2025.2)\n",
      "Requirement already satisfied: filelock in c:\\users\\quang\\appdata\\local\\programs\\python\\python311\\lib\\site-packages (from transformers) (3.19.1)\n",
      "Requirement already satisfied: huggingface-hub<1.0,>=0.34.0 in c:\\users\\quang\\appdata\\local\\programs\\python\\python311\\lib\\site-packages (from transformers) (0.34.4)\n",
      "Requirement already satisfied: packaging>=20.0 in c:\\users\\quang\\appdata\\roaming\\python\\python311\\site-packages (from transformers) (25.0)\n",
      "Requirement already satisfied: pyyaml>=5.1 in c:\\users\\quang\\appdata\\local\\programs\\python\\python311\\lib\\site-packages (from transformers) (6.0.2)\n",
      "Requirement already satisfied: regex!=2019.12.17 in c:\\users\\quang\\appdata\\local\\programs\\python\\python311\\lib\\site-packages (from transformers) (2025.7.34)\n",
      "Requirement already satisfied: requests in c:\\users\\quang\\appdata\\local\\programs\\python\\python311\\lib\\site-packages (from transformers) (2.32.5)\n",
      "Requirement already satisfied: tokenizers<0.22,>=0.21 in c:\\users\\quang\\appdata\\local\\programs\\python\\python311\\lib\\site-packages (from transformers) (0.21.4)\n",
      "Requirement already satisfied: safetensors>=0.4.3 in c:\\users\\quang\\appdata\\local\\programs\\python\\python311\\lib\\site-packages (from transformers) (0.6.2)\n",
      "Requirement already satisfied: tqdm>=4.27 in c:\\users\\quang\\appdata\\local\\programs\\python\\python311\\lib\\site-packages (from transformers) (4.67.1)\n",
      "Requirement already satisfied: typing-extensions>=4.10.0 in c:\\users\\quang\\appdata\\roaming\\python\\python311\\site-packages (from torch) (4.15.0)\n",
      "Requirement already satisfied: sympy>=1.13.3 in c:\\users\\quang\\appdata\\local\\programs\\python\\python311\\lib\\site-packages (from torch) (1.14.0)\n",
      "Requirement already satisfied: networkx in c:\\users\\quang\\appdata\\local\\programs\\python\\python311\\lib\\site-packages (from torch) (3.5)\n",
      "Requirement already satisfied: jinja2 in c:\\users\\quang\\appdata\\local\\programs\\python\\python311\\lib\\site-packages (from torch) (3.1.6)\n",
      "Requirement already satisfied: fsspec in c:\\users\\quang\\appdata\\local\\programs\\python\\python311\\lib\\site-packages (from torch) (2025.7.0)\n",
      "Requirement already satisfied: Click>=6.0 in c:\\users\\quang\\appdata\\local\\programs\\python\\python311\\lib\\site-packages (from underthesea) (8.2.1)\n",
      "Requirement already satisfied: python-crfsuite>=0.9.6 in c:\\users\\quang\\appdata\\local\\programs\\python\\python311\\lib\\site-packages (from underthesea) (0.9.11)\n",
      "Requirement already satisfied: nltk in c:\\users\\quang\\appdata\\local\\programs\\python\\python311\\lib\\site-packages (from underthesea) (3.9.1)\n",
      "Requirement already satisfied: joblib in c:\\users\\quang\\appdata\\local\\programs\\python\\python311\\lib\\site-packages (from underthesea) (1.5.2)\n",
      "Requirement already satisfied: scikit-learn in c:\\users\\quang\\appdata\\local\\programs\\python\\python311\\lib\\site-packages (from underthesea) (1.7.1)\n",
      "Requirement already satisfied: underthesea-core==1.0.4 in c:\\users\\quang\\appdata\\local\\programs\\python\\python311\\lib\\site-packages (from underthesea) (1.0.4)\n",
      "Requirement already satisfied: colorama in c:\\users\\quang\\appdata\\roaming\\python\\python311\\site-packages (from Click>=6.0->underthesea) (0.4.6)\n",
      "Requirement already satisfied: six>=1.5 in c:\\users\\quang\\appdata\\roaming\\python\\python311\\site-packages (from python-dateutil>=2.8.2->pandas) (1.17.0)\n",
      "Requirement already satisfied: mpmath<1.4,>=1.1.0 in c:\\users\\quang\\appdata\\local\\programs\\python\\python311\\lib\\site-packages (from sympy>=1.13.3->torch) (1.3.0)\n",
      "Requirement already satisfied: MarkupSafe>=2.0 in c:\\users\\quang\\appdata\\local\\programs\\python\\python311\\lib\\site-packages (from jinja2->torch) (3.0.2)\n",
      "Requirement already satisfied: charset_normalizer<4,>=2 in c:\\users\\quang\\appdata\\local\\programs\\python\\python311\\lib\\site-packages (from requests->transformers) (3.4.3)\n",
      "Requirement already satisfied: idna<4,>=2.5 in c:\\users\\quang\\appdata\\local\\programs\\python\\python311\\lib\\site-packages (from requests->transformers) (3.10)\n",
      "Requirement already satisfied: urllib3<3,>=1.21.1 in c:\\users\\quang\\appdata\\local\\programs\\python\\python311\\lib\\site-packages (from requests->transformers) (2.5.0)\n",
      "Requirement already satisfied: certifi>=2017.4.17 in c:\\users\\quang\\appdata\\local\\programs\\python\\python311\\lib\\site-packages (from requests->transformers) (2025.8.3)\n",
      "Requirement already satisfied: scipy>=1.8.0 in c:\\users\\quang\\appdata\\local\\programs\\python\\python311\\lib\\site-packages (from scikit-learn->underthesea) (1.16.1)\n",
      "Requirement already satisfied: threadpoolctl>=3.1.0 in c:\\users\\quang\\appdata\\local\\programs\\python\\python311\\lib\\site-packages (from scikit-learn->underthesea) (3.6.0)\n"
     ]
    },
    {
     "name": "stderr",
     "output_type": "stream",
     "text": [
      "\n",
      "[notice] A new release of pip available: 22.3 -> 25.2\n",
      "[notice] To update, run: python.exe -m pip install --upgrade pip\n"
     ]
    }
   ],
   "source": [
    "!pip install pandas transformers torch underthesea vncorenlp"
   ]
  },
  {
   "cell_type": "code",
   "execution_count": 49,
   "id": "c523a497",
   "metadata": {},
   "outputs": [
    {
     "name": "stderr",
     "output_type": "stream",
     "text": [
      "Some weights of the model checkpoint at vinai/phobert-base were not used when initializing RobertaForMaskedLM: ['roberta.pooler.dense.bias', 'roberta.pooler.dense.weight']\n",
      "- This IS expected if you are initializing RobertaForMaskedLM from the checkpoint of a model trained on another task or with another architecture (e.g. initializing a BertForSequenceClassification model from a BertForPreTraining model).\n",
      "- This IS NOT expected if you are initializing RobertaForMaskedLM from the checkpoint of a model that you expect to be exactly identical (initializing a BertForSequenceClassification model from a BertForSequenceClassification model).\n"
     ]
    }
   ],
   "source": [
    "from underthesea import word_tokenize, pos_tag\n",
    "import numpy as np\n",
    "import math\n",
    "from transformers import AutoModelForMaskedLM, AutoTokenizer\n",
    "import torch\n",
    "tokenizer = AutoTokenizer.from_pretrained(\"vinai/phobert-base\", use_fast=False)\n",
    "model = AutoModelForMaskedLM.from_pretrained(\"vinai/phobert-base\")"
   ]
  },
  {
   "cell_type": "markdown",
   "id": "a4e7be75",
   "metadata": {},
   "source": [
    "#### Perplexity là gì?\n",
    "\n",
    "**Perplexity (PPL)** là một chỉ số đo độ “bối rối” của mô hình ngôn ngữ khi dự đoán từ tiếp theo trong câu.  \n",
    "\n",
    "Nói cách khác: **mức độ khó dự đoán một chuỗi văn bản**.  \n",
    "Công thức cơ bản cho một câu w_1, w_2, ..., w_N  với mô hình LM:\n",
    "\n",
    "![alt text](image.png)\n",
    "\n",
    "- *PPL >=1* \n",
    "- *PPL = 1* → câu quá dễ, mô hình dự đoán hoàn hảo (hiếm xảy ra).\n",
    "- *PPL cao* → câu khó dự đoán, nhiều khả năng từ vựng khác nhau → độ phức tạp cao..\n"
   ]
  },
  {
   "cell_type": "code",
   "execution_count": 50,
   "id": "98bcb692",
   "metadata": {},
   "outputs": [],
   "source": [
    "def compute_perplexity(sentence):\n",
    "    encodings = tokenizer(sentence, return_tensors=\"pt\", truncation=True, max_length=256)\n",
    "    input_ids = encodings.input_ids\n",
    "    target_ids = input_ids.clone()\n",
    "    with torch.no_grad():\n",
    "        outputs = model(input_ids, labels=target_ids)\n",
    "        loss = outputs.loss\n",
    "    return math.exp(loss.item())"
   ]
  },
  {
   "cell_type": "markdown",
   "id": "3998c575",
   "metadata": {},
   "source": [
    "### Feature đánh giá độ phức tạp câu\n",
    "\n",
    "##### Feature thống kê cú pháp (syntactic/structural features)\n",
    "\n",
    "| Feature | Kiểu | Mô tả | Ví dụ |\n",
    "|---------|------|-------|-------|\n",
    "| sentence_length | Numeric | Số từ trong câu | 13 |\n",
    "| avg_word_length | Numeric | Độ dài trung bình của từ | 3.3 |\n",
    "| num_clauses | Numeric | Số mệnh đề ước lượng bằng liên từ | 0 |\n",
    "| num_punct | Numeric | Số dấu câu | 0 |\n",
    "| num_nouns | Numeric | Số danh từ (`N*`) | 8 |\n",
    "| num_verbs | Numeric | Số động từ (`V*`) | 2 |\n",
    "| num_adjs | Numeric | Số tính từ (`A*`) | 0 |\n"
   ]
  },
  {
   "cell_type": "code",
   "execution_count": 51,
   "id": "899d73e5",
   "metadata": {},
   "outputs": [],
   "source": [
    "def extract_features(sentence):\n",
    "    tokens = word_tokenize(sentence)\n",
    "    sentence_length = len(tokens)\n",
    "    avg_word_length = np.mean([len(t) for t in tokens]) if tokens else 0\n",
    "\n",
    "    pos = pos_tag(sentence)\n",
    "    num_nouns = sum(1 for _, p in pos if p.startswith(\"N\"))\n",
    "    num_verbs = sum(1 for _, p in pos if p.startswith(\"V\"))\n",
    "    num_adjs = sum(1 for _, p in pos if p.startswith(\"A\"))\n",
    "\n",
    "    connectors = {\"và\",\"hoặc\", \"nhưng\",\"tuy nhiên\",\"cũng như là\",\"nên\", \"mà\", \n",
    "                  \"nếu\", \"thì\", \"bởi vì\", \"vì\" ,\"khi\", \n",
    "                  \"mặc dù\", \"để\",\"sau\",\"sau_khi\", \n",
    "                  \"trước\", \"trước khi\", \"hay\", \"khi\",\"do\", \"do đó\",\n",
    "                  \"hễ\", \"lẫn\", \"cùng\", \"ngoài ra\", \"vậy\", \"trừ phi\",\n",
    "                  \"hơn\", \"bằng\", \"như\", \"dù cho\", \"nhằm\", \"vì vậy\",\n",
    "                  \"ngược lại\", \"chỉ\" ,\"chỉ trừ\"}\n",
    "    num_clauses = sum(1 for t in tokens if t.lower() in connectors)\n",
    "    num_punct = sum(1 for t in tokens if t in \".,;!?\")\n",
    "\n",
    "    # Bỏ tree_depth, num_long_dep vì underthesea không parse_dep\n",
    "    perplexity = compute_perplexity(sentence)\n",
    "\n",
    "    return [\n",
    "        sentence_length, avg_word_length, num_clauses, num_punct,\n",
    "        num_nouns, num_verbs, num_adjs, perplexity\n",
    "    ]"
   ]
  },
  {
   "cell_type": "code",
   "execution_count": 52,
   "id": "a25350e6",
   "metadata": {},
   "outputs": [
    {
     "name": "stdout",
     "output_type": "stream",
     "text": [
      "✅ Đã xuất CSV: D:\\NCKH\\estimate_question_difficulty\\Embedding\\Output_features\\question_features.csv\n",
      "   id  subject                                           question  \\\n",
      "0   1  Văn học  Từ Văn hóa trong văn bản Phong cách Hồ Chí Min...   \n",
      "1   2  Văn học  Ý nào nói lên việc tiếp thu có chọn lọc tinh h...   \n",
      "2   3  Văn học  Vấn đề chủ yếu được nói tới trong văn bản Phon...   \n",
      "3   4  Văn học  Theo tác giả quan niệm thẩm mĩ về cuộc sống củ...   \n",
      "4   5  Văn học         Từ nào sau đây trái nghĩa với truân chuyên   \n",
      "\n",
      "   sentence_length  avg_word_length  num_clauses  num_punct  num_nouns  \\\n",
      "0                8         6.250000            0          0          4   \n",
      "1               19         5.000000            0          0          7   \n",
      "2               11         5.454545            0          0          4   \n",
      "3               11         5.818182            0          0          5   \n",
      "4                8         4.375000            1          0          2   \n",
      "\n",
      "   num_verbs  num_adjs  perplexity  \n",
      "0          1         0    1.558426  \n",
      "1          8         0    1.358634  \n",
      "2          3         1    1.254041  \n",
      "3          3         0    1.153462  \n",
      "4          1         1    1.040243  \n"
     ]
    }
   ],
   "source": [
    "import json\n",
    "import pandas as pd\n",
    "\n",
    "input_file = r\"D:\\NCKH\\estimate_question_difficulty\\Embedding\\Output_ws\\ori_questions.json\"\n",
    "with open(input_file, \"r\", encoding=\"utf-8\") as f:\n",
    "    data = json.load(f)\n",
    "\n",
    "rows = []\n",
    "for item in data:\n",
    "    qid = item[\"id\"]\n",
    "    subject = item[\"subject\"]\n",
    "    question = item[\"question\"]\n",
    "    \n",
    "    feat = extract_features(question)\n",
    "    rows.append([qid, subject, question] + feat)\n",
    "\n",
    "columns = [\"id\", \"subject\", \"question\",\n",
    "           \"sentence_length\", \"avg_word_length\", \"num_clauses\", \"num_punct\",\n",
    "           \"num_nouns\", \"num_verbs\", \"num_adjs\", \"perplexity\"]\n",
    "\n",
    "df = pd.DataFrame(rows, columns=columns)\n",
    "\n",
    "output_file = r\"D:\\NCKH\\estimate_question_difficulty\\Embedding\\Output_features\\question_features.csv\"\n",
    "df.to_csv(output_file, index=False, encoding=\"utf-8-sig\")\n",
    "print(\"✅ Đã xuất CSV:\", output_file)\n",
    "print(df.head())"
   ]
  }
 ],
 "metadata": {
  "kernelspec": {
   "display_name": "Python 3",
   "language": "python",
   "name": "python3"
  },
  "language_info": {
   "codemirror_mode": {
    "name": "ipython",
    "version": 3
   },
   "file_extension": ".py",
   "mimetype": "text/x-python",
   "name": "python",
   "nbconvert_exporter": "python",
   "pygments_lexer": "ipython3",
   "version": "3.11.0"
  }
 },
 "nbformat": 4,
 "nbformat_minor": 5
}

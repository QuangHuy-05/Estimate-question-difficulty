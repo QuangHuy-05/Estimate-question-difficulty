{
 "cells": [
  {
   "cell_type": "code",
   "execution_count": null,
   "id": "154afca0",
   "metadata": {},
   "outputs": [
    {
     "name": "stdout",
     "output_type": "stream",
     "text": [
      "Requirement already satisfied: pandas in c:\\users\\quang\\appdata\\local\\programs\\python\\python311\\lib\\site-packages (2.3.2)\n",
      "Requirement already satisfied: transformers in c:\\users\\quang\\appdata\\local\\programs\\python\\python311\\lib\\site-packages (4.55.4)\n",
      "Requirement already satisfied: torch in c:\\users\\quang\\appdata\\local\\programs\\python\\python311\\lib\\site-packages (2.8.0)\n",
      "Requirement already satisfied: underthesea in c:\\users\\quang\\appdata\\local\\programs\\python\\python311\\lib\\site-packages (6.8.4)\n",
      "Requirement already satisfied: vncorenlp in c:\\users\\quang\\appdata\\local\\programs\\python\\python311\\lib\\site-packages (1.0.3)\n",
      "Requirement already satisfied: tqdm in c:\\users\\quang\\appdata\\local\\programs\\python\\python311\\lib\\site-packages (4.67.1)\n",
      "Requirement already satisfied: hf_xet in c:\\users\\quang\\appdata\\local\\programs\\python\\python311\\lib\\site-packages (1.1.10)\n",
      "Requirement already satisfied: numpy>=1.23.2 in c:\\users\\quang\\appdata\\local\\programs\\python\\python311\\lib\\site-packages (from pandas) (2.3.2)\n",
      "Requirement already satisfied: python-dateutil>=2.8.2 in c:\\users\\quang\\appdata\\roaming\\python\\python311\\site-packages (from pandas) (2.9.0.post0)\n",
      "Requirement already satisfied: pytz>=2020.1 in c:\\users\\quang\\appdata\\local\\programs\\python\\python311\\lib\\site-packages (from pandas) (2025.2)\n",
      "Requirement already satisfied: tzdata>=2022.7 in c:\\users\\quang\\appdata\\local\\programs\\python\\python311\\lib\\site-packages (from pandas) (2025.2)\n",
      "Requirement already satisfied: filelock in c:\\users\\quang\\appdata\\local\\programs\\python\\python311\\lib\\site-packages (from transformers) (3.19.1)\n",
      "Requirement already satisfied: huggingface-hub<1.0,>=0.34.0 in c:\\users\\quang\\appdata\\local\\programs\\python\\python311\\lib\\site-packages (from transformers) (0.34.4)\n",
      "Requirement already satisfied: packaging>=20.0 in c:\\users\\quang\\appdata\\roaming\\python\\python311\\site-packages (from transformers) (25.0)\n",
      "Requirement already satisfied: pyyaml>=5.1 in c:\\users\\quang\\appdata\\local\\programs\\python\\python311\\lib\\site-packages (from transformers) (6.0.2)\n",
      "Requirement already satisfied: regex!=2019.12.17 in c:\\users\\quang\\appdata\\local\\programs\\python\\python311\\lib\\site-packages (from transformers) (2025.7.34)\n",
      "Requirement already satisfied: requests in c:\\users\\quang\\appdata\\local\\programs\\python\\python311\\lib\\site-packages (from transformers) (2.32.5)\n",
      "Requirement already satisfied: tokenizers<0.22,>=0.21 in c:\\users\\quang\\appdata\\local\\programs\\python\\python311\\lib\\site-packages (from transformers) (0.21.4)\n",
      "Requirement already satisfied: safetensors>=0.4.3 in c:\\users\\quang\\appdata\\local\\programs\\python\\python311\\lib\\site-packages (from transformers) (0.6.2)\n",
      "Requirement already satisfied: typing-extensions>=4.10.0 in c:\\users\\quang\\appdata\\local\\programs\\python\\python311\\lib\\site-packages (from torch) (4.14.1)\n",
      "Requirement already satisfied: sympy>=1.13.3 in c:\\users\\quang\\appdata\\local\\programs\\python\\python311\\lib\\site-packages (from torch) (1.14.0)\n",
      "Requirement already satisfied: networkx in c:\\users\\quang\\appdata\\local\\programs\\python\\python311\\lib\\site-packages (from torch) (3.5)\n",
      "Requirement already satisfied: jinja2 in c:\\users\\quang\\appdata\\local\\programs\\python\\python311\\lib\\site-packages (from torch) (3.1.6)\n",
      "Requirement already satisfied: fsspec in c:\\users\\quang\\appdata\\local\\programs\\python\\python311\\lib\\site-packages (from torch) (2025.7.0)\n",
      "Requirement already satisfied: Click>=6.0 in c:\\users\\quang\\appdata\\local\\programs\\python\\python311\\lib\\site-packages (from underthesea) (8.2.1)\n",
      "Requirement already satisfied: python-crfsuite>=0.9.6 in c:\\users\\quang\\appdata\\local\\programs\\python\\python311\\lib\\site-packages (from underthesea) (0.9.11)\n",
      "Requirement already satisfied: nltk in c:\\users\\quang\\appdata\\local\\programs\\python\\python311\\lib\\site-packages (from underthesea) (3.9.1)\n",
      "Requirement already satisfied: joblib in c:\\users\\quang\\appdata\\local\\programs\\python\\python311\\lib\\site-packages (from underthesea) (1.5.2)\n",
      "Requirement already satisfied: scikit-learn in c:\\users\\quang\\appdata\\local\\programs\\python\\python311\\lib\\site-packages (from underthesea) (1.7.1)\n",
      "Requirement already satisfied: underthesea-core==1.0.4 in c:\\users\\quang\\appdata\\local\\programs\\python\\python311\\lib\\site-packages (from underthesea) (1.0.4)\n",
      "Requirement already satisfied: colorama in c:\\users\\quang\\appdata\\roaming\\python\\python311\\site-packages (from tqdm) (0.4.6)\n",
      "Requirement already satisfied: six>=1.5 in c:\\users\\quang\\appdata\\roaming\\python\\python311\\site-packages (from python-dateutil>=2.8.2->pandas) (1.17.0)\n",
      "Requirement already satisfied: mpmath<1.4,>=1.1.0 in c:\\users\\quang\\appdata\\local\\programs\\python\\python311\\lib\\site-packages (from sympy>=1.13.3->torch) (1.3.0)\n",
      "Requirement already satisfied: MarkupSafe>=2.0 in c:\\users\\quang\\appdata\\local\\programs\\python\\python311\\lib\\site-packages (from jinja2->torch) (3.0.2)\n",
      "Requirement already satisfied: charset_normalizer<4,>=2 in c:\\users\\quang\\appdata\\local\\programs\\python\\python311\\lib\\site-packages (from requests->transformers) (3.4.3)\n",
      "Requirement already satisfied: idna<4,>=2.5 in c:\\users\\quang\\appdata\\local\\programs\\python\\python311\\lib\\site-packages (from requests->transformers) (3.10)\n",
      "Requirement already satisfied: urllib3<3,>=1.21.1 in c:\\users\\quang\\appdata\\local\\programs\\python\\python311\\lib\\site-packages (from requests->transformers) (2.5.0)\n",
      "Requirement already satisfied: certifi>=2017.4.17 in c:\\users\\quang\\appdata\\local\\programs\\python\\python311\\lib\\site-packages (from requests->transformers) (2025.8.3)\n",
      "Requirement already satisfied: scipy>=1.8.0 in c:\\users\\quang\\appdata\\local\\programs\\python\\python311\\lib\\site-packages (from scikit-learn->underthesea) (1.16.1)\n",
      "Requirement already satisfied: threadpoolctl>=3.1.0 in c:\\users\\quang\\appdata\\local\\programs\\python\\python311\\lib\\site-packages (from scikit-learn->underthesea) (3.6.0)\n"
     ]
    },
    {
     "name": "stderr",
     "output_type": "stream",
     "text": [
      "\n",
      "[notice] A new release of pip available: 22.3 -> 25.2\n",
      "[notice] To update, run: python.exe -m pip install --upgrade pip\n"
     ]
    }
   ],
   "source": [
    "# !pip install pandas transformers torch underthesea vncorenlp tqdm hf_xet"
   ]
  },
  {
   "cell_type": "code",
   "execution_count": 1,
   "id": "c523a497",
   "metadata": {},
   "outputs": [
    {
     "name": "stderr",
     "output_type": "stream",
     "text": [
      "c:\\Users\\quang\\AppData\\Local\\Programs\\Python\\Python311\\Lib\\site-packages\\tqdm\\auto.py:21: TqdmWarning: IProgress not found. Please update jupyter and ipywidgets. See https://ipywidgets.readthedocs.io/en/stable/user_install.html\n",
      "  from .autonotebook import tqdm as notebook_tqdm\n"
     ]
    }
   ],
   "source": [
    "import json\n",
    "import numpy as np\n",
    "import pandas as pd\n",
    "import torch\n",
    "import math\n",
    "from tqdm import tqdm\n",
    "from underthesea import word_tokenize, pos_tag\n",
    "from transformers import AutoTokenizer, AutoModel, AutoModelForCausalLM\n",
    "from sklearn.decomposition import TruncatedSVD"
   ]
  },
  {
   "cell_type": "markdown",
   "id": "a4e7be75",
   "metadata": {},
   "source": [
    "#### Perplexity là gì?\n",
    "\n",
    "**Perplexity (PPL)** là một chỉ số đo độ “bối rối” của mô hình ngôn ngữ khi dự đoán từ tiếp theo trong câu.  \n",
    "\n",
    "Nói cách khác: **mức độ khó dự đoán một chuỗi văn bản**.  \n",
    "Công thức cơ bản cho một câu w_1, w_2, ..., w_N  với mô hình LM:\n",
    "\n",
    "![alt text](image.png)\n",
    "\n",
    "- *PPL >=1* \n",
    "- *PPL = 1* → câu quá dễ, mô hình dự đoán hoàn hảo (hiếm xảy ra).\n",
    "- *PPL cao* → câu khó dự đoán, nhiều khả năng từ vựng khác nhau → độ phức tạp cao..\n"
   ]
  },
  {
   "cell_type": "code",
   "execution_count": null,
   "id": "98bcb692",
   "metadata": {},
   "outputs": [],
   "source": [
    "def extract_linguistic_features(sentence, connectors, lit_terms):\n",
    "    tokens = word_tokenize(sentence)\n",
    "    sentence_length = len(tokens)\n",
    "    avg_word_length = np.mean([len(t) for t in tokens]) if tokens else 0\n",
    "\n",
    "    pos = pos_tag(sentence)\n",
    "    num_nouns = sum(1 for _, p in pos if p.startswith(\"N\"))\n",
    "    num_verbs = sum(1 for _, p in pos if p.startswith(\"V\"))\n",
    "    num_adjs = sum(1 for _, p in pos if p.startswith(\"A\"))\n",
    "    num_lit_terms = sum(1 for t in tokens if t in lit_terms)\n",
    "    num_clauses = sum(1 for t in tokens if t.lower() in connectors)\n",
    "    num_punct = sum(1 for t in tokens if t in \".,;!?\")\n",
    "\n",
    "    return [sentence_length, avg_word_length, num_clauses, num_punct,\n",
    "            num_nouns, num_verbs, num_adjs, num_lit_terms]"
   ]
  },
  {
   "cell_type": "code",
   "execution_count": null,
   "id": "48ba1b88",
   "metadata": {},
   "outputs": [],
   "source": [
    "def get_embedding(sentence,phobert_tokenizer,phobert_model,device, max_length=256):\n",
    "    inputs = phobert_tokenizer(sentence, return_tensors=\"pt\", truncation=True,\n",
    "                               padding=True, max_length=max_length).to(device)\n",
    "    with torch.no_grad():\n",
    "        outputs = phobert_model(**inputs)\n",
    "    emb = outputs.last_hidden_state.mean(dim=1).squeeze().cpu().numpy()\n",
    "    return emb"
   ]
  },
  {
   "cell_type": "markdown",
   "id": "3998c575",
   "metadata": {},
   "source": [
    "### Feature đánh giá độ phức tạp câu\n",
    "\n",
    "##### Feature thống kê cú pháp (syntactic/structural features)\n",
    "\n",
    "| Feature | Kiểu | Mô tả | Ví dụ |\n",
    "|---------|------|-------|-------|\n",
    "| sentence_length | Numeric | Số từ trong câu | 13 |\n",
    "| avg_word_length | Numeric | Độ dài trung bình của từ | 3.3 |\n",
    "| num_clauses | Numeric | Số mệnh đề ước lượng bằng liên từ | 0 |\n",
    "| num_punct | Numeric | Số dấu câu | 0 |\n",
    "| num_nouns | Numeric | Số danh từ (`N*`) | 8 |\n",
    "| num_verbs | Numeric | Số động từ (`V*`) | 2 |\n",
    "| num_adjs | Numeric | Số tính từ (`A*`) | 0 |\n"
   ]
  },
  {
   "cell_type": "code",
   "execution_count": null,
   "id": "23127cf3",
   "metadata": {},
   "outputs": [],
   "source": [
    "def compute_perplexity(sentence,gpt2_tokenizer, gpt2_model,device, max_length=256):\n",
    "    encodings = gpt2_tokenizer(sentence, return_tensors=\"pt\",\n",
    "                               truncation=True, max_length=max_length).to(device)\n",
    "    with torch.no_grad():\n",
    "        outputs = gpt2_model(**encodings, labels=encodings[\"input_ids\"])\n",
    "    return torch.exp(outputs.loss).item()"
   ]
  },
  {
   "cell_type": "code",
   "execution_count": null,
   "id": "a25350e6",
   "metadata": {},
   "outputs": [
    {
     "name": "stderr",
     "output_type": "stream",
     "text": [
      "Processing questions:   0%|          | 0/2135 [00:00<?, ?it/s]`loss_type=None` was set in the config but it is unrecognised.Using the default loss: `ForCausalLMLoss`.\n",
      "Processing questions: 100%|██████████| 2135/2135 [04:31<00:00,  7.85it/s]\n"
     ]
    },
    {
     "name": "stdout",
     "output_type": "stream",
     "text": [
      "✅ Đã xuất CSV: D:\\NCKH\\estimate_question_difficulty\\Embedding\\Output_features\\question_features.csv\n",
      "   id subject                                           question  \\\n",
      "0   1     văn  Từ Văn hóa trong văn bản Phong cách Hồ Chí Min...   \n",
      "1   2     văn  Ý nào nói lên việc tiếp thu có chọn lọc tinh h...   \n",
      "2   3     văn  Vấn đề chủ yếu được nói tới trong văn bản Phon...   \n",
      "3   4     văn  Theo tác giả quan niệm thẩm mĩ về cuộc sống củ...   \n",
      "4   5     văn         Từ nào sau đây trái nghĩa với truân chuyên   \n",
      "\n",
      "   sentence_length  avg_word_length  num_clauses  num_punct  num_nouns  \\\n",
      "0                8         6.250000            0          0          4   \n",
      "1               19         5.000000            0          0          7   \n",
      "2               11         5.454545            0          0          4   \n",
      "3               11         5.818182            0          0          5   \n",
      "4                8         4.375000            1          0          2   \n",
      "\n",
      "   num_verbs  num_adjs  ...   emb_758   emb_759   emb_760   emb_761   emb_762  \\\n",
      "0          1         0  ... -0.350693 -0.089239 -0.225918 -0.077289  0.017341   \n",
      "1          8         0  ... -0.532932 -0.174968 -0.047092 -0.209031  0.032001   \n",
      "2          3         1  ... -0.451266 -0.073578 -0.093131  0.138020 -0.079370   \n",
      "3          3         0  ... -0.547598 -0.166488  0.061520  0.212215 -0.068206   \n",
      "4          1         1  ... -0.539941 -0.190392 -0.192316  0.097870  0.005812   \n",
      "\n",
      "    emb_763   emb_764   emb_765   emb_766   emb_767  \n",
      "0 -0.079538  0.032727  0.126841 -0.037774  0.230229  \n",
      "1 -0.135106  0.035296  0.017055 -0.081185  0.127953  \n",
      "2 -0.029051  0.068000  0.126817  0.201643  0.098739  \n",
      "3  0.004966  0.218758  0.019375  0.038860 -0.195142  \n",
      "4 -0.183003  0.136636  0.053043 -0.004143  0.311755  \n",
      "\n",
      "[5 rows x 779 columns]\n"
     ]
    }
   ],
   "source": [
    "def run_sen_comlex(input_file, output_file, connectors,phobert_tokenizer, phobert_model\n",
    "                   , gpt2_tokenizer, gpt2_model, device, lit_terms, svd):\n",
    "    with open(input_file, \"r\", encoding=\"utf-8\") as f:\n",
    "        data = json.load(f)\n",
    "\n",
    "    rows = []\n",
    "    embs = []\n",
    "    meta = []\n",
    "\n",
    "    for item in tqdm(data, desc=\"Processing questions\"):\n",
    "        qid = item[\"id\"]\n",
    "        subject = item[\"subject\"]\n",
    "        question = item[\"question\"]\n",
    "\n",
    "        # Feature ngôn ngữ học\n",
    "        ling_feats = extract_linguistic_features(question, connectors, lit_terms)\n",
    "\n",
    "        # Embedding PhoBERT\n",
    "        emb = get_embedding(question,phobert_tokenizer, phobert_model,device)\n",
    "        \n",
    "        # Perplexity GPT2\n",
    "        ppl = compute_perplexity(question, gpt2_tokenizer, gpt2_model, device)\n",
    "\n",
    "        meta.append([qid, subject, question] + ling_feats + [ppl])\n",
    "        embs.append(emb)\n",
    "\n",
    "    embs = np.array(embs)\n",
    "    reduced_embs = svd.fit_transform(embs)\n",
    "    for i in range(len(data)):\n",
    "        rows.append(meta[i] + reduced_embs[i].tolist())\n",
    "    # ======================\n",
    "    # Xuất CSV\n",
    "    # ======================\n",
    "    emb_dim = len(rows[0]) - 3 - 8 - 1  # trừ id, subject, question, 7 feature ngôn ngữ, ppl\n",
    "    columns = [\"id\", \"subject\", \"question\",\n",
    "            \"sentence_length\", \"avg_word_length\", \"num_clauses\", \"num_punct\",\n",
    "            \"num_nouns\", \"num_verbs\", \"num_adjs\",\"num_lit_terms\", \"perplexity\"] + [f\"emb_{i}\" for i in range(emb_dim)]\n",
    "\n",
    "    df = pd.DataFrame(rows, columns=columns)\n",
    "    df.to_csv(output_file, index=False, encoding=\"utf-8-sig\")\n",
    "\n",
    "    print(\"✅ Đã xuất độ phức tạp của câu hỏi sang file CSV:\", output_file)\n",
    "    print(df.head())"
   ]
  }
 ],
 "metadata": {
  "kernelspec": {
   "display_name": "Python 3",
   "language": "python",
   "name": "python3"
  },
  "language_info": {
   "codemirror_mode": {
    "name": "ipython",
    "version": 3
   },
   "file_extension": ".py",
   "mimetype": "text/x-python",
   "name": "python",
   "nbconvert_exporter": "python",
   "pygments_lexer": "ipython3",
   "version": "3.11.0"
  }
 },
 "nbformat": 4,
 "nbformat_minor": 5
}

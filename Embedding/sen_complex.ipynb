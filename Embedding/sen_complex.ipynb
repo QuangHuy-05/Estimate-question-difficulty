{
 "cells": [
  {
   "cell_type": "code",
   "execution_count": null,
   "id": "154afca0",
   "metadata": {},
   "outputs": [],
   "source": [
    "# !pip install pandas transformers torch underthesea vncorenlp tqdm hf_xet"
   ]
  },
  {
   "cell_type": "code",
   "execution_count": null,
   "id": "c523a497",
   "metadata": {},
   "outputs": [],
   "source": [
    "import json\n",
    "import numpy as np\n",
    "import pandas as pd\n",
    "import torch\n",
    "import math\n",
    "from tqdm import tqdm\n",
    "from underthesea import word_tokenize, pos_tag\n",
    "from transformers import AutoTokenizer, AutoModel, AutoModelForCausalLM\n",
    "from sklearn.decomposition import TruncatedSVD"
   ]
  },
  {
   "cell_type": "markdown",
   "id": "a4e7be75",
   "metadata": {},
   "source": [
    "#### Perplexity là gì?\n",
    "\n",
    "**Perplexity (PPL)** là một chỉ số đo độ “bối rối” của mô hình ngôn ngữ khi dự đoán từ tiếp theo trong câu.  \n",
    "\n",
    "Nói cách khác: **mức độ khó dự đoán một chuỗi văn bản**.  \n",
    "Công thức cơ bản cho một câu w_1, w_2, ..., w_N  với mô hình LM:\n",
    "\n",
    "![alt text](image.png)\n",
    "\n",
    "- *PPL >=1* \n",
    "- *PPL = 1* → câu quá dễ, mô hình dự đoán hoàn hảo (hiếm xảy ra).\n",
    "- *PPL cao* → câu khó dự đoán, nhiều khả năng từ vựng khác nhau → độ phức tạp cao..\n"
   ]
  },
  {
   "cell_type": "code",
   "execution_count": null,
   "id": "98bcb692",
   "metadata": {},
   "outputs": [],
   "source": [
    "def extract_linguistic_features(sentence, connectors, lit_terms):\n",
    "    tokens = word_tokenize(sentence)\n",
    "    sentence_length = len(tokens)\n",
    "    avg_word_length = np.mean([len(t) for t in tokens]) if tokens else 0\n",
    "\n",
    "    pos = pos_tag(sentence)\n",
    "    num_nouns = sum(1 for _, p in pos if p.startswith(\"N\"))\n",
    "    num_verbs = sum(1 for _, p in pos if p.startswith(\"V\"))\n",
    "    num_adjs = sum(1 for _, p in pos if p.startswith(\"A\"))\n",
    "    num_lit_terms = sum(1 for t in tokens if t in lit_terms)\n",
    "    num_clauses = sum(1 for t in tokens if t.lower() in connectors)\n",
    "    num_punct = sum(1 for t in tokens if t in \".,;!?\")\n",
    "    \n",
    "\n",
    "    return [sentence_length, avg_word_length, num_clauses, num_punct,\n",
    "            num_nouns, num_verbs, num_adjs, num_lit_terms]"
   ]
  },
  {
   "cell_type": "code",
   "execution_count": null,
   "id": "48ba1b88",
   "metadata": {},
   "outputs": [],
   "source": [
    "def get_embedding(sentence,phobert_tokenizer,phobert_model,device, max_length=256):\n",
    "    inputs = phobert_tokenizer(sentence, return_tensors=\"pt\", truncation=True,\n",
    "                               padding=True, max_length=max_length).to(device)\n",
    "    with torch.no_grad():\n",
    "        outputs = phobert_model(**inputs)\n",
    "    emb = outputs.last_hidden_state.mean(dim=1).squeeze().cpu().numpy()\n",
    "    return emb"
   ]
  },
  {
   "cell_type": "code",
   "execution_count": null,
   "id": "0122fc41",
   "metadata": {},
   "outputs": [],
   "source": [
    "def parse_tree_depth(sentence, nlp):\n",
    "    if not sentence or not sentence.strip():\n",
    "        return 0\n",
    "    \n",
    "    parsed = nlp(sentence)\n",
    "    max_depth = 0\n",
    "\n",
    "    # duyệt qua từng token\n",
    "    for sent in parsed.sentences:\n",
    "        for word in sent.words:\n",
    "            depth = 1\n",
    "            head = word.head\n",
    "            # leo lên cây từ token tới gốc\n",
    "            while head != 0:\n",
    "                parent = next(w for w in sent.words if w.id == head)\n",
    "                head = parent.head\n",
    "                depth += 1\n",
    "            max_depth = max(max_depth, depth)\n",
    "\n",
    "    return max_depth\n"
   ]
  },
  {
   "cell_type": "markdown",
   "id": "3998c575",
   "metadata": {},
   "source": [
    "### Feature đánh giá độ phức tạp câu\n",
    "\n",
    "##### Feature thống kê cú pháp (syntactic/structural features)\n",
    "\n",
    "| Feature | Kiểu | Mô tả | Ví dụ |\n",
    "|---------|------|-------|-------|\n",
    "| sentence_length | Numeric | Số từ trong câu | 13 |\n",
    "| avg_word_length | Numeric | Độ dài trung bình của từ | 3.3 |\n",
    "| num_clauses | Numeric | Số mệnh đề ước lượng bằng liên từ | 0 |\n",
    "| num_punct | Numeric | Số dấu câu | 0 |\n",
    "| num_nouns | Numeric | Số danh từ (`N*`) | 8 |\n",
    "| num_verbs | Numeric | Số động từ (`V*`) | 2 |\n",
    "| num_adjs | Numeric | Số tính từ (`A*`) | 0 |\n"
   ]
  },
  {
   "cell_type": "code",
   "execution_count": null,
   "id": "23127cf3",
   "metadata": {},
   "outputs": [],
   "source": [
    "def compute_perplexity(sentence,gpt2_tokenizer, gpt2_model,device, max_length=256):\n",
    "    encodings = gpt2_tokenizer(sentence, return_tensors=\"pt\",\n",
    "                               truncation=True, max_length=max_length).to(device)\n",
    "    with torch.no_grad():\n",
    "        outputs = gpt2_model(**encodings, labels=encodings[\"input_ids\"])\n",
    "    return torch.exp(outputs.loss).item()"
   ]
  },
  {
   "cell_type": "code",
   "execution_count": null,
   "id": "a25350e6",
   "metadata": {},
   "outputs": [],
   "source": [
    "def run_sen_comlex(input_file, output_file, connectors,phobert_tokenizer, phobert_model\n",
    "                   , gpt2_tokenizer, gpt2_model, device, lit_terms, svd, nlp):\n",
    "    with open(input_file, \"r\", encoding=\"utf-8\") as f:\n",
    "        data = json.load(f)\n",
    "\n",
    "    rows = []\n",
    "    embs = []\n",
    "    meta = []\n",
    "\n",
    "    for item in tqdm(data, desc=\"Processing questions\"):\n",
    "        qid = item[\"id\"]\n",
    "        subject = item[\"subject\"]\n",
    "        question = item[\"question\"]\n",
    "\n",
    "        # Feature ngôn ngữ học\n",
    "        ling_feats = extract_linguistic_features(question, connectors, lit_terms)\n",
    "        # Độ sâu cây cú pháp\n",
    "        max_depth = parse_tree_depth(question, nlp)\n",
    "        ling_feats.append(max_depth)\n",
    "        # Embedding PhoBERT\n",
    "        emb = get_embedding(question,phobert_tokenizer, phobert_model,device)\n",
    "        # Perplexity GPT2\n",
    "        ppl = compute_perplexity(question, gpt2_tokenizer, gpt2_model, device)\n",
    "\n",
    "        meta.append([qid, subject, question] + ling_feats + [ppl])\n",
    "        embs.append(emb)\n",
    "\n",
    "    embs = np.array(embs)\n",
    "    reduced_embs = svd.fit_transform(embs)\n",
    "    for i in range(len(data)):\n",
    "        rows.append(meta[i] + reduced_embs[i].tolist())\n",
    "    # ======================\n",
    "    # Xuất CSV\n",
    "    # ======================\n",
    "    emb_dim = len(rows[0]) - 3 - 9 - 1  # trừ id, subject, question, 7 feature ngôn ngữ, ppl\n",
    "    columns = [\"id\", \"subject\", \"question\",\n",
    "            \"sentence_length\", \"avg_word_length\", \"num_clauses\", \"num_punct\",\n",
    "            \"num_nouns\", \"num_verbs\", \"num_adjs\",\"num_lit_terms\",\"parse_tree_depth\", \"perplexity\"] + [f\"emb_{i}\" for i in range(emb_dim)]\n",
    "\n",
    "    df = pd.DataFrame(rows, columns=columns)\n",
    "    df.to_csv(output_file, index=False, encoding=\"utf-8-sig\")\n",
    "\n",
    "    print(\"✅ Đã xuất độ phức tạp của câu hỏi sang file CSV:\", output_file)\n",
    "    print(df.head())"
   ]
  }
 ],
 "metadata": {
  "kernelspec": {
   "display_name": "Python 3",
   "language": "python",
   "name": "python3"
  },
  "language_info": {
   "codemirror_mode": {
    "name": "ipython",
    "version": 3
   },
   "file_extension": ".py",
   "mimetype": "text/x-python",
   "name": "python",
   "nbconvert_exporter": "python",
   "pygments_lexer": "ipython3",
   "version": "3.11.0"
  }
 },
 "nbformat": 4,
 "nbformat_minor": 5
}
